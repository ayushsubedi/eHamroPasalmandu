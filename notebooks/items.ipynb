{
 "cells": [
  {
   "cell_type": "code",
   "execution_count": 1,
   "id": "6f537870-d732-40d5-be45-556599c1b4dc",
   "metadata": {},
   "outputs": [],
   "source": [
    "import pandas as pd\n",
    "import random"
   ]
  },
  {
   "cell_type": "code",
   "execution_count": 2,
   "id": "ab224dc2-4bf6-43c3-8fea-884d20fef1f8",
   "metadata": {},
   "outputs": [],
   "source": [
    "df = pd.read_csv('../datasets/phones_raw.csv')"
   ]
  },
  {
   "cell_type": "code",
   "execution_count": 3,
   "id": "bf2f2319-18cf-40b2-83f6-eaea0d937945",
   "metadata": {},
   "outputs": [],
   "source": [
    "df = df.sample(frac=1)\n",
    "df.reset_index(inplace=True, drop=True)"
   ]
  },
  {
   "cell_type": "code",
   "execution_count": 4,
   "id": "e9f74293-815b-4548-823c-f4905dd26459",
   "metadata": {},
   "outputs": [
    {
     "data": {
      "text/html": [
       "<div>\n",
       "<style scoped>\n",
       "    .dataframe tbody tr th:only-of-type {\n",
       "        vertical-align: middle;\n",
       "    }\n",
       "\n",
       "    .dataframe tbody tr th {\n",
       "        vertical-align: top;\n",
       "    }\n",
       "\n",
       "    .dataframe thead th {\n",
       "        text-align: right;\n",
       "    }\n",
       "</style>\n",
       "<table border=\"1\" class=\"dataframe\">\n",
       "  <thead>\n",
       "    <tr style=\"text-align: right;\">\n",
       "      <th></th>\n",
       "      <th>price</th>\n",
       "      <th>item_name</th>\n",
       "      <th>category</th>\n",
       "    </tr>\n",
       "  </thead>\n",
       "  <tbody>\n",
       "    <tr>\n",
       "      <th>0</th>\n",
       "      <td>72990</td>\n",
       "      <td>Acer Aspire 3 (15.6″ HD, Ryzen 5 3500U, Radeon...</td>\n",
       "      <td>Laptop</td>\n",
       "    </tr>\n",
       "    <tr>\n",
       "      <th>1</th>\n",
       "      <td>64999</td>\n",
       "      <td>Mi 11X Pro (8+128GB)</td>\n",
       "      <td>Phone</td>\n",
       "    </tr>\n",
       "    <tr>\n",
       "      <th>2</th>\n",
       "      <td>17999</td>\n",
       "      <td>Poco M3 (4+64GB)</td>\n",
       "      <td>Phone</td>\n",
       "    </tr>\n",
       "    <tr>\n",
       "      <th>3</th>\n",
       "      <td>20499</td>\n",
       "      <td>Galaxy F22 (4+64GB)</td>\n",
       "      <td>Phone</td>\n",
       "    </tr>\n",
       "    <tr>\n",
       "      <th>4</th>\n",
       "      <td>176000</td>\n",
       "      <td>ZenBook 14 UX435EG (14” FHD Touch, Intel i7-11...</td>\n",
       "      <td>Laptop</td>\n",
       "    </tr>\n",
       "    <tr>\n",
       "      <th>...</th>\n",
       "      <td>...</td>\n",
       "      <td>...</td>\n",
       "      <td>...</td>\n",
       "    </tr>\n",
       "    <tr>\n",
       "      <th>286</th>\n",
       "      <td>83000</td>\n",
       "      <td>VivoBook Flip 14 TP412FA (14” FHD 360 Touch, I...</td>\n",
       "      <td>Laptop</td>\n",
       "    </tr>\n",
       "    <tr>\n",
       "      <th>287</th>\n",
       "      <td>315000</td>\n",
       "      <td>Nikon D810</td>\n",
       "      <td>Camera</td>\n",
       "    </tr>\n",
       "    <tr>\n",
       "      <th>288</th>\n",
       "      <td>195000</td>\n",
       "      <td>Triton 300 2020 (15.6″ FHD 120Hz, Core i7-1075...</td>\n",
       "      <td>Laptop</td>\n",
       "    </tr>\n",
       "    <tr>\n",
       "      <th>289</th>\n",
       "      <td>39999</td>\n",
       "      <td>Galaxy M51 (6+128GB)</td>\n",
       "      <td>Phone</td>\n",
       "    </tr>\n",
       "    <tr>\n",
       "      <th>290</th>\n",
       "      <td>49999</td>\n",
       "      <td>Vivo V21</td>\n",
       "      <td>Phone</td>\n",
       "    </tr>\n",
       "  </tbody>\n",
       "</table>\n",
       "<p>291 rows × 3 columns</p>\n",
       "</div>"
      ],
      "text/plain": [
       "      price                                          item_name category\n",
       "0     72990  Acer Aspire 3 (15.6″ HD, Ryzen 5 3500U, Radeon...   Laptop\n",
       "1     64999                               Mi 11X Pro (8+128GB)    Phone\n",
       "2     17999                                   Poco M3 (4+64GB)    Phone\n",
       "3     20499                                Galaxy F22 (4+64GB)    Phone\n",
       "4    176000  ZenBook 14 UX435EG (14” FHD Touch, Intel i7-11...   Laptop\n",
       "..      ...                                                ...      ...\n",
       "286   83000  VivoBook Flip 14 TP412FA (14” FHD 360 Touch, I...   Laptop\n",
       "287  315000                                         Nikon D810   Camera\n",
       "288  195000  Triton 300 2020 (15.6″ FHD 120Hz, Core i7-1075...   Laptop\n",
       "289   39999                               Galaxy M51 (6+128GB)    Phone\n",
       "290   49999                                           Vivo V21    Phone\n",
       "\n",
       "[291 rows x 3 columns]"
      ]
     },
     "execution_count": 4,
     "metadata": {},
     "output_type": "execute_result"
    }
   ],
   "source": [
    "df"
   ]
  },
  {
   "cell_type": "code",
   "execution_count": 5,
   "id": "11119f64-6cf8-44f7-8032-86bae6d1090c",
   "metadata": {},
   "outputs": [],
   "source": [
    "def generate_link(item):\n",
    "    item = item.replace(\" \", \"+\")\n",
    "    return \"https://dummyimage.com/600x400/000/fff&text=\"+item"
   ]
  },
  {
   "cell_type": "code",
   "execution_count": 7,
   "id": "6045fa88-0227-448d-8ed6-b9c933c1bd75",
   "metadata": {},
   "outputs": [],
   "source": [
    "df['image_url'] = df.item_name.apply(generate_link)"
   ]
  },
  {
   "cell_type": "code",
   "execution_count": 10,
   "id": "6a2d2823-e603-428e-b087-12f9d0d07730",
   "metadata": {},
   "outputs": [],
   "source": [
    "df['item_id'] = df.index + 10000"
   ]
  },
  {
   "cell_type": "code",
   "execution_count": 11,
   "id": "00190e55-7f1c-4e8c-a5e8-f4aff13c9ee1",
   "metadata": {},
   "outputs": [
    {
     "data": {
      "text/html": [
       "<div>\n",
       "<style scoped>\n",
       "    .dataframe tbody tr th:only-of-type {\n",
       "        vertical-align: middle;\n",
       "    }\n",
       "\n",
       "    .dataframe tbody tr th {\n",
       "        vertical-align: top;\n",
       "    }\n",
       "\n",
       "    .dataframe thead th {\n",
       "        text-align: right;\n",
       "    }\n",
       "</style>\n",
       "<table border=\"1\" class=\"dataframe\">\n",
       "  <thead>\n",
       "    <tr style=\"text-align: right;\">\n",
       "      <th></th>\n",
       "      <th>price</th>\n",
       "      <th>item_name</th>\n",
       "      <th>category</th>\n",
       "      <th>image_url</th>\n",
       "      <th>item_id</th>\n",
       "    </tr>\n",
       "  </thead>\n",
       "  <tbody>\n",
       "    <tr>\n",
       "      <th>0</th>\n",
       "      <td>72990</td>\n",
       "      <td>Acer Aspire 3 (15.6″ HD, Ryzen 5 3500U, Radeon...</td>\n",
       "      <td>Laptop</td>\n",
       "      <td>https://dummyimage.com/600x400/000/fff&amp;text=Ac...</td>\n",
       "      <td>10000</td>\n",
       "    </tr>\n",
       "    <tr>\n",
       "      <th>1</th>\n",
       "      <td>64999</td>\n",
       "      <td>Mi 11X Pro (8+128GB)</td>\n",
       "      <td>Phone</td>\n",
       "      <td>https://dummyimage.com/600x400/000/fff&amp;text=Mi...</td>\n",
       "      <td>10001</td>\n",
       "    </tr>\n",
       "    <tr>\n",
       "      <th>2</th>\n",
       "      <td>17999</td>\n",
       "      <td>Poco M3 (4+64GB)</td>\n",
       "      <td>Phone</td>\n",
       "      <td>https://dummyimage.com/600x400/000/fff&amp;text=Po...</td>\n",
       "      <td>10002</td>\n",
       "    </tr>\n",
       "    <tr>\n",
       "      <th>3</th>\n",
       "      <td>20499</td>\n",
       "      <td>Galaxy F22 (4+64GB)</td>\n",
       "      <td>Phone</td>\n",
       "      <td>https://dummyimage.com/600x400/000/fff&amp;text=Ga...</td>\n",
       "      <td>10003</td>\n",
       "    </tr>\n",
       "    <tr>\n",
       "      <th>4</th>\n",
       "      <td>176000</td>\n",
       "      <td>ZenBook 14 UX435EG (14” FHD Touch, Intel i7-11...</td>\n",
       "      <td>Laptop</td>\n",
       "      <td>https://dummyimage.com/600x400/000/fff&amp;text=Ze...</td>\n",
       "      <td>10004</td>\n",
       "    </tr>\n",
       "    <tr>\n",
       "      <th>...</th>\n",
       "      <td>...</td>\n",
       "      <td>...</td>\n",
       "      <td>...</td>\n",
       "      <td>...</td>\n",
       "      <td>...</td>\n",
       "    </tr>\n",
       "    <tr>\n",
       "      <th>286</th>\n",
       "      <td>83000</td>\n",
       "      <td>VivoBook Flip 14 TP412FA (14” FHD 360 Touch, I...</td>\n",
       "      <td>Laptop</td>\n",
       "      <td>https://dummyimage.com/600x400/000/fff&amp;text=Vi...</td>\n",
       "      <td>10286</td>\n",
       "    </tr>\n",
       "    <tr>\n",
       "      <th>287</th>\n",
       "      <td>315000</td>\n",
       "      <td>Nikon D810</td>\n",
       "      <td>Camera</td>\n",
       "      <td>https://dummyimage.com/600x400/000/fff&amp;text=Ni...</td>\n",
       "      <td>10287</td>\n",
       "    </tr>\n",
       "    <tr>\n",
       "      <th>288</th>\n",
       "      <td>195000</td>\n",
       "      <td>Triton 300 2020 (15.6″ FHD 120Hz, Core i7-1075...</td>\n",
       "      <td>Laptop</td>\n",
       "      <td>https://dummyimage.com/600x400/000/fff&amp;text=Tr...</td>\n",
       "      <td>10288</td>\n",
       "    </tr>\n",
       "    <tr>\n",
       "      <th>289</th>\n",
       "      <td>39999</td>\n",
       "      <td>Galaxy M51 (6+128GB)</td>\n",
       "      <td>Phone</td>\n",
       "      <td>https://dummyimage.com/600x400/000/fff&amp;text=Ga...</td>\n",
       "      <td>10289</td>\n",
       "    </tr>\n",
       "    <tr>\n",
       "      <th>290</th>\n",
       "      <td>49999</td>\n",
       "      <td>Vivo V21</td>\n",
       "      <td>Phone</td>\n",
       "      <td>https://dummyimage.com/600x400/000/fff&amp;text=Vi...</td>\n",
       "      <td>10290</td>\n",
       "    </tr>\n",
       "  </tbody>\n",
       "</table>\n",
       "<p>291 rows × 5 columns</p>\n",
       "</div>"
      ],
      "text/plain": [
       "      price                                          item_name category  \\\n",
       "0     72990  Acer Aspire 3 (15.6″ HD, Ryzen 5 3500U, Radeon...   Laptop   \n",
       "1     64999                               Mi 11X Pro (8+128GB)    Phone   \n",
       "2     17999                                   Poco M3 (4+64GB)    Phone   \n",
       "3     20499                                Galaxy F22 (4+64GB)    Phone   \n",
       "4    176000  ZenBook 14 UX435EG (14” FHD Touch, Intel i7-11...   Laptop   \n",
       "..      ...                                                ...      ...   \n",
       "286   83000  VivoBook Flip 14 TP412FA (14” FHD 360 Touch, I...   Laptop   \n",
       "287  315000                                         Nikon D810   Camera   \n",
       "288  195000  Triton 300 2020 (15.6″ FHD 120Hz, Core i7-1075...   Laptop   \n",
       "289   39999                               Galaxy M51 (6+128GB)    Phone   \n",
       "290   49999                                           Vivo V21    Phone   \n",
       "\n",
       "                                             image_url  item_id  \n",
       "0    https://dummyimage.com/600x400/000/fff&text=Ac...    10000  \n",
       "1    https://dummyimage.com/600x400/000/fff&text=Mi...    10001  \n",
       "2    https://dummyimage.com/600x400/000/fff&text=Po...    10002  \n",
       "3    https://dummyimage.com/600x400/000/fff&text=Ga...    10003  \n",
       "4    https://dummyimage.com/600x400/000/fff&text=Ze...    10004  \n",
       "..                                                 ...      ...  \n",
       "286  https://dummyimage.com/600x400/000/fff&text=Vi...    10286  \n",
       "287  https://dummyimage.com/600x400/000/fff&text=Ni...    10287  \n",
       "288  https://dummyimage.com/600x400/000/fff&text=Tr...    10288  \n",
       "289  https://dummyimage.com/600x400/000/fff&text=Ga...    10289  \n",
       "290  https://dummyimage.com/600x400/000/fff&text=Vi...    10290  \n",
       "\n",
       "[291 rows x 5 columns]"
      ]
     },
     "execution_count": 11,
     "metadata": {},
     "output_type": "execute_result"
    }
   ],
   "source": [
    "df"
   ]
  },
  {
   "cell_type": "code",
   "execution_count": 12,
   "id": "76432925-b584-41a3-8fc7-012c266244c9",
   "metadata": {},
   "outputs": [],
   "source": [
    "df['inventory'] = [random.randint(10, 100) for x in range(df.shape[0])]"
   ]
  },
  {
   "cell_type": "code",
   "execution_count": 13,
   "id": "856d4527-cb8b-45f0-a415-e9c8d6504f6a",
   "metadata": {},
   "outputs": [
    {
     "data": {
      "text/plain": [
       "['price', 'item_name', 'category', 'image_url', 'item_id', 'inventory']"
      ]
     },
     "execution_count": 13,
     "metadata": {},
     "output_type": "execute_result"
    }
   ],
   "source": [
    "list(df)"
   ]
  },
  {
   "cell_type": "code",
   "execution_count": 14,
   "id": "9e0468b3-5037-4dd9-89e0-1ccd760a706b",
   "metadata": {},
   "outputs": [],
   "source": [
    "df[['item_id', 'item_name', 'category', 'image_url', 'inventory']].to_csv('../datasets/items.csv', index=False)"
   ]
  }
 ],
 "metadata": {
  "kernelspec": {
   "display_name": "Python 3 (ipykernel)",
   "language": "python",
   "name": "python3"
  },
  "language_info": {
   "codemirror_mode": {
    "name": "ipython",
    "version": 3
   },
   "file_extension": ".py",
   "mimetype": "text/x-python",
   "name": "python",
   "nbconvert_exporter": "python",
   "pygments_lexer": "ipython3",
   "version": "3.8.3"
  }
 },
 "nbformat": 4,
 "nbformat_minor": 5
}
