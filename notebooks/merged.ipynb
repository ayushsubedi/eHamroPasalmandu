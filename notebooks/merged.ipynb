{
 "cells": [
  {
   "cell_type": "code",
   "execution_count": 4,
   "id": "382bc16d-5a06-4993-a64b-62607839ee5e",
   "metadata": {},
   "outputs": [],
   "source": [
    "import pandas as pd"
   ]
  },
  {
   "cell_type": "code",
   "execution_count": 5,
   "id": "bf198f06-36de-43b0-86db-81e3a0a1c958",
   "metadata": {},
   "outputs": [],
   "source": [
    "transactions = pd.read_csv(\"../datasets/transactions.csv\", parse_dates=['created_at'])\n",
    "clients = pd.read_csv(\"../datasets/clients.csv\", parse_dates=['created_at'])\n",
    "items = pd.read_csv(\"../datasets/items.csv\")"
   ]
  },
  {
   "cell_type": "code",
   "execution_count": 10,
   "id": "39cce63f-e45b-4b9c-b4c9-1cfdd9776b9c",
   "metadata": {},
   "outputs": [
    {
     "data": {
      "text/plain": [
       "['client_id',\n",
       " 'name',\n",
       " 'gender',\n",
       " 'dob',\n",
       " 'email',\n",
       " 'phone',\n",
       " 'channel',\n",
       " 'first_contact',\n",
       " 'lat',\n",
       " 'lon',\n",
       " 'location_name',\n",
       " 'created_at']"
      ]
     },
     "execution_count": 10,
     "metadata": {},
     "output_type": "execute_result"
    }
   ],
   "source": [
    "list(clients)"
   ]
  },
  {
   "cell_type": "code",
   "execution_count": 18,
   "id": "8f7b9334-0027-46bd-9150-46517559a113",
   "metadata": {},
   "outputs": [],
   "source": [
    "merged = transactions.set_index('client_id').join(clients.set_index('client_id'), rsuffix=\"_client\").reset_index().set_index('item_id').join(items.set_index('item_id')).reset_index()"
   ]
  },
  {
   "cell_type": "code",
   "execution_count": 19,
   "id": "b75189d0-bb3f-45db-ac68-7bb7a03337b2",
   "metadata": {},
   "outputs": [
    {
     "data": {
      "text/plain": [
       "['item_id',\n",
       " 'client_id',\n",
       " 'created_at',\n",
       " 'name',\n",
       " 'gender',\n",
       " 'dob',\n",
       " 'email',\n",
       " 'phone',\n",
       " 'channel',\n",
       " 'first_contact',\n",
       " 'lat',\n",
       " 'lon',\n",
       " 'location_name',\n",
       " 'created_at_client',\n",
       " 'item_name',\n",
       " 'price',\n",
       " 'category',\n",
       " 'image_url',\n",
       " 'inventory']"
      ]
     },
     "execution_count": 19,
     "metadata": {},
     "output_type": "execute_result"
    }
   ],
   "source": [
    "list(merged)"
   ]
  },
  {
   "cell_type": "code",
   "execution_count": null,
   "id": "5c6ab650-a7df-430e-8ed4-57f6924d0d79",
   "metadata": {},
   "outputs": [],
   "source": []
  }
 ],
 "metadata": {
  "kernelspec": {
   "display_name": "Python 3 (ipykernel)",
   "language": "python",
   "name": "python3"
  },
  "language_info": {
   "codemirror_mode": {
    "name": "ipython",
    "version": 3
   },
   "file_extension": ".py",
   "mimetype": "text/x-python",
   "name": "python",
   "nbconvert_exporter": "python",
   "pygments_lexer": "ipython3",
   "version": "3.8.3"
  }
 },
 "nbformat": 4,
 "nbformat_minor": 5
}
