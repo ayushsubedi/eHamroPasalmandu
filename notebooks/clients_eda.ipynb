{
 "cells": [
  {
   "cell_type": "code",
   "execution_count": 1,
   "id": "83a91b39-2808-4d2f-bff0-9bdb2389454e",
   "metadata": {},
   "outputs": [],
   "source": [
    "import pandas as pd\n",
    "from datetime import datetime as dt"
   ]
  },
  {
   "cell_type": "code",
   "execution_count": 3,
   "id": "49ee099e-7981-41fb-a4f6-631ebf1373f7",
   "metadata": {},
   "outputs": [],
   "source": [
    "df = pd.read_csv('../datasets/clients.csv', parse_dates=['created_at', 'dob'])"
   ]
  },
  {
   "cell_type": "code",
   "execution_count": 4,
   "id": "2f27cc76-b5a2-426b-b4c7-b8f184b953f3",
   "metadata": {},
   "outputs": [
    {
     "data": {
      "text/html": [
       "<div>\n",
       "<style scoped>\n",
       "    .dataframe tbody tr th:only-of-type {\n",
       "        vertical-align: middle;\n",
       "    }\n",
       "\n",
       "    .dataframe tbody tr th {\n",
       "        vertical-align: top;\n",
       "    }\n",
       "\n",
       "    .dataframe thead th {\n",
       "        text-align: right;\n",
       "    }\n",
       "</style>\n",
       "<table border=\"1\" class=\"dataframe\">\n",
       "  <thead>\n",
       "    <tr style=\"text-align: right;\">\n",
       "      <th></th>\n",
       "      <th>client_id</th>\n",
       "      <th>name</th>\n",
       "      <th>gender</th>\n",
       "      <th>dob</th>\n",
       "      <th>email</th>\n",
       "      <th>phone</th>\n",
       "      <th>channel</th>\n",
       "      <th>first_contact</th>\n",
       "      <th>lat</th>\n",
       "      <th>lon</th>\n",
       "      <th>location_name</th>\n",
       "      <th>created_at</th>\n",
       "    </tr>\n",
       "  </thead>\n",
       "  <tbody>\n",
       "    <tr>\n",
       "      <th>0</th>\n",
       "      <td>100000000</td>\n",
       "      <td>Santoshi Pujari</td>\n",
       "      <td>Other</td>\n",
       "      <td>2001-07-09</td>\n",
       "      <td>santoshi.pujari@fakeemail.com</td>\n",
       "      <td>9841640599</td>\n",
       "      <td>Facebook/Ads</td>\n",
       "      <td>browser</td>\n",
       "      <td>27.6745</td>\n",
       "      <td>85.3147</td>\n",
       "      <td>Pulchowk Rd</td>\n",
       "      <td>2020-09-01 19:11:43.636755</td>\n",
       "    </tr>\n",
       "    <tr>\n",
       "      <th>1</th>\n",
       "      <td>100000001</td>\n",
       "      <td>Samir Balmapaki</td>\n",
       "      <td>Male</td>\n",
       "      <td>1997-08-22</td>\n",
       "      <td>samir.balmapaki@fakeemail.com</td>\n",
       "      <td>9841057031</td>\n",
       "      <td>Facebook/Ads</td>\n",
       "      <td>browser</td>\n",
       "      <td>27.6741</td>\n",
       "      <td>85.3733</td>\n",
       "      <td>Gaththaghar Bus Stand</td>\n",
       "      <td>2020-09-01 17:54:27.179981</td>\n",
       "    </tr>\n",
       "    <tr>\n",
       "      <th>2</th>\n",
       "      <td>100000002</td>\n",
       "      <td>Jenis Dong</td>\n",
       "      <td>Male</td>\n",
       "      <td>2000-02-10</td>\n",
       "      <td>jenis.dong@fakeemail.com</td>\n",
       "      <td>9841982134</td>\n",
       "      <td>Other</td>\n",
       "      <td>browser</td>\n",
       "      <td>27.6959</td>\n",
       "      <td>85.3416</td>\n",
       "      <td>Kalki Pushpa Marg</td>\n",
       "      <td>2020-09-01 04:25:35.978793</td>\n",
       "    </tr>\n",
       "    <tr>\n",
       "      <th>3</th>\n",
       "      <td>100000003</td>\n",
       "      <td>Prapti Lingden</td>\n",
       "      <td>Female</td>\n",
       "      <td>2000-02-06</td>\n",
       "      <td>prapti.lingden@fakeemail.com</td>\n",
       "      <td>9841648216</td>\n",
       "      <td>Other</td>\n",
       "      <td>browser</td>\n",
       "      <td>27.6863</td>\n",
       "      <td>85.3183</td>\n",
       "      <td>School Of Creative Communications</td>\n",
       "      <td>2020-09-01 16:13:47.878862</td>\n",
       "    </tr>\n",
       "    <tr>\n",
       "      <th>4</th>\n",
       "      <td>100000004</td>\n",
       "      <td>Srijan Biswash</td>\n",
       "      <td>Male</td>\n",
       "      <td>1997-04-13</td>\n",
       "      <td>srijan.biswash@fakeemail.com</td>\n",
       "      <td>9841587182</td>\n",
       "      <td>Other</td>\n",
       "      <td>browser</td>\n",
       "      <td>27.7015</td>\n",
       "      <td>85.3484</td>\n",
       "      <td>Sumitra Villa</td>\n",
       "      <td>2020-09-01 05:38:37.874022</td>\n",
       "    </tr>\n",
       "    <tr>\n",
       "      <th>...</th>\n",
       "      <td>...</td>\n",
       "      <td>...</td>\n",
       "      <td>...</td>\n",
       "      <td>...</td>\n",
       "      <td>...</td>\n",
       "      <td>...</td>\n",
       "      <td>...</td>\n",
       "      <td>...</td>\n",
       "      <td>...</td>\n",
       "      <td>...</td>\n",
       "      <td>...</td>\n",
       "      <td>...</td>\n",
       "    </tr>\n",
       "    <tr>\n",
       "      <th>175641</th>\n",
       "      <td>100175641</td>\n",
       "      <td>Vivi Nandana</td>\n",
       "      <td>Female</td>\n",
       "      <td>1991-01-03</td>\n",
       "      <td>vivi.nandana@fakeemail.com</td>\n",
       "      <td>9841920492</td>\n",
       "      <td>Facebook/Ads</td>\n",
       "      <td>app</td>\n",
       "      <td>27.6922</td>\n",
       "      <td>85.3195</td>\n",
       "      <td>The British College</td>\n",
       "      <td>2021-08-31 03:12:13.256245</td>\n",
       "    </tr>\n",
       "    <tr>\n",
       "      <th>175642</th>\n",
       "      <td>100175642</td>\n",
       "      <td>Sunita Dhawal</td>\n",
       "      <td>Female</td>\n",
       "      <td>2007-09-20</td>\n",
       "      <td>sunita.dhawal@fakeemail.com</td>\n",
       "      <td>9841705164</td>\n",
       "      <td>Word of Mouth</td>\n",
       "      <td>browser</td>\n",
       "      <td>27.7056</td>\n",
       "      <td>85.3236</td>\n",
       "      <td>Dilli Bazaar Sadak</td>\n",
       "      <td>2021-08-31 21:38:40.187767</td>\n",
       "    </tr>\n",
       "    <tr>\n",
       "      <th>175643</th>\n",
       "      <td>100175643</td>\n",
       "      <td>Asutosh Ranzitkar</td>\n",
       "      <td>Male</td>\n",
       "      <td>1993-03-17</td>\n",
       "      <td>asutosh.ranzitkar@fakeemail.com</td>\n",
       "      <td>9841185822</td>\n",
       "      <td>Other</td>\n",
       "      <td>app</td>\n",
       "      <td>27.7131</td>\n",
       "      <td>85.3246</td>\n",
       "      <td>Bhagawati Marg</td>\n",
       "      <td>2021-08-31 21:50:01.828931</td>\n",
       "    </tr>\n",
       "    <tr>\n",
       "      <th>175644</th>\n",
       "      <td>100175644</td>\n",
       "      <td>Alina Tuldhar</td>\n",
       "      <td>Female</td>\n",
       "      <td>2003-11-10</td>\n",
       "      <td>alina.tuldhar@fakeemail.com</td>\n",
       "      <td>9841091936</td>\n",
       "      <td>Word of Mouth</td>\n",
       "      <td>browser</td>\n",
       "      <td>27.7379</td>\n",
       "      <td>85.3628</td>\n",
       "      <td>Dhaulagiri Chowk Bus Stop</td>\n",
       "      <td>2021-08-31 10:20:17.775996</td>\n",
       "    </tr>\n",
       "    <tr>\n",
       "      <th>175645</th>\n",
       "      <td>100175645</td>\n",
       "      <td>Vivi Ghorsaini</td>\n",
       "      <td>Female</td>\n",
       "      <td>2001-12-19</td>\n",
       "      <td>vivi.ghorsaini@fakeemail.com</td>\n",
       "      <td>9841084433</td>\n",
       "      <td>Google Search</td>\n",
       "      <td>browser</td>\n",
       "      <td>27.7091</td>\n",
       "      <td>85.3245</td>\n",
       "      <td>Dhobidhara Marg</td>\n",
       "      <td>2021-08-31 03:10:04.836920</td>\n",
       "    </tr>\n",
       "  </tbody>\n",
       "</table>\n",
       "<p>175646 rows × 12 columns</p>\n",
       "</div>"
      ],
      "text/plain": [
       "        client_id               name  gender        dob  \\\n",
       "0       100000000    Santoshi Pujari   Other 2001-07-09   \n",
       "1       100000001    Samir Balmapaki    Male 1997-08-22   \n",
       "2       100000002         Jenis Dong    Male 2000-02-10   \n",
       "3       100000003     Prapti Lingden  Female 2000-02-06   \n",
       "4       100000004     Srijan Biswash    Male 1997-04-13   \n",
       "...           ...                ...     ...        ...   \n",
       "175641  100175641       Vivi Nandana  Female 1991-01-03   \n",
       "175642  100175642      Sunita Dhawal  Female 2007-09-20   \n",
       "175643  100175643  Asutosh Ranzitkar    Male 1993-03-17   \n",
       "175644  100175644      Alina Tuldhar  Female 2003-11-10   \n",
       "175645  100175645     Vivi Ghorsaini  Female 2001-12-19   \n",
       "\n",
       "                                  email       phone        channel  \\\n",
       "0         santoshi.pujari@fakeemail.com  9841640599   Facebook/Ads   \n",
       "1         samir.balmapaki@fakeemail.com  9841057031   Facebook/Ads   \n",
       "2              jenis.dong@fakeemail.com  9841982134          Other   \n",
       "3          prapti.lingden@fakeemail.com  9841648216          Other   \n",
       "4          srijan.biswash@fakeemail.com  9841587182          Other   \n",
       "...                                 ...         ...            ...   \n",
       "175641       vivi.nandana@fakeemail.com  9841920492   Facebook/Ads   \n",
       "175642      sunita.dhawal@fakeemail.com  9841705164  Word of Mouth   \n",
       "175643  asutosh.ranzitkar@fakeemail.com  9841185822          Other   \n",
       "175644      alina.tuldhar@fakeemail.com  9841091936  Word of Mouth   \n",
       "175645     vivi.ghorsaini@fakeemail.com  9841084433  Google Search   \n",
       "\n",
       "       first_contact      lat      lon                      location_name  \\\n",
       "0            browser  27.6745  85.3147                        Pulchowk Rd   \n",
       "1            browser  27.6741  85.3733              Gaththaghar Bus Stand   \n",
       "2            browser  27.6959  85.3416                  Kalki Pushpa Marg   \n",
       "3            browser  27.6863  85.3183  School Of Creative Communications   \n",
       "4            browser  27.7015  85.3484                      Sumitra Villa   \n",
       "...              ...      ...      ...                                ...   \n",
       "175641           app  27.6922  85.3195                The British College   \n",
       "175642       browser  27.7056  85.3236                 Dilli Bazaar Sadak   \n",
       "175643           app  27.7131  85.3246                     Bhagawati Marg   \n",
       "175644       browser  27.7379  85.3628          Dhaulagiri Chowk Bus Stop   \n",
       "175645       browser  27.7091  85.3245                    Dhobidhara Marg   \n",
       "\n",
       "                       created_at  \n",
       "0      2020-09-01 19:11:43.636755  \n",
       "1      2020-09-01 17:54:27.179981  \n",
       "2      2020-09-01 04:25:35.978793  \n",
       "3      2020-09-01 16:13:47.878862  \n",
       "4      2020-09-01 05:38:37.874022  \n",
       "...                           ...  \n",
       "175641 2021-08-31 03:12:13.256245  \n",
       "175642 2021-08-31 21:38:40.187767  \n",
       "175643 2021-08-31 21:50:01.828931  \n",
       "175644 2021-08-31 10:20:17.775996  \n",
       "175645 2021-08-31 03:10:04.836920  \n",
       "\n",
       "[175646 rows x 12 columns]"
      ]
     },
     "execution_count": 4,
     "metadata": {},
     "output_type": "execute_result"
    }
   ],
   "source": [
    "df"
   ]
  },
  {
   "cell_type": "code",
   "execution_count": 6,
   "id": "07b83eb1-dfb2-446e-a606-150e166f1f0e",
   "metadata": {},
   "outputs": [
    {
     "data": {
      "text/plain": [
       "Male                 91766\n",
       "Female               65366\n",
       "Other                12140\n",
       "Prefer not to say     6374\n",
       "Name: gender, dtype: int64"
      ]
     },
     "execution_count": 6,
     "metadata": {},
     "output_type": "execute_result"
    }
   ],
   "source": [
    "df.gender.value_counts()"
   ]
  },
  {
   "cell_type": "code",
   "execution_count": 7,
   "id": "2e550f36-dae7-447a-ba3e-021388397bf3",
   "metadata": {},
   "outputs": [
    {
     "data": {
      "text/plain": [
       "Facebook/Ads     67624\n",
       "Google Search    48045\n",
       "Other            30818\n",
       "Word of Mouth    29159\n",
       "Name: channel, dtype: int64"
      ]
     },
     "execution_count": 7,
     "metadata": {},
     "output_type": "execute_result"
    }
   ],
   "source": [
    "df.channel.value_counts()"
   ]
  },
  {
   "cell_type": "code",
   "execution_count": 8,
   "id": "16141953-a670-4308-99cd-1bce76ddb53d",
   "metadata": {},
   "outputs": [
    {
     "data": {
      "text/plain": [
       "browser    151135\n",
       "app         24511\n",
       "Name: first_contact, dtype: int64"
      ]
     },
     "execution_count": 8,
     "metadata": {},
     "output_type": "execute_result"
    }
   ],
   "source": [
    "df['first_contact'].value_counts()"
   ]
  },
  {
   "cell_type": "code",
   "execution_count": 9,
   "id": "1dbb26a9-753c-4079-b6f2-09e9e22ffc39",
   "metadata": {},
   "outputs": [
    {
     "data": {
      "text/plain": [
       "<AxesSubplot:xlabel='created_at'>"
      ]
     },
     "execution_count": 9,
     "metadata": {},
     "output_type": "execute_result"
    },
    {
     "data": {
      "image/png": "[encoded data removed]",
      "text/plain": [
       "<Figure size 432x288 with 1 Axes>"
      ]
     },
     "metadata": {
      "needs_background": "light"
     },
     "output_type": "display_data"
    }
   ],
   "source": [
    "df.resample('M', on='created_at')[['client_id']].count().plot()"
   ]
  },
  {
   "cell_type": "code",
   "execution_count": 10,
   "id": "79fc748d-ce8b-4c24-8e2b-b38577dfe76b",
   "metadata": {},
   "outputs": [
    {
     "data": {
      "text/plain": [
       "<AxesSubplot:xlabel='created_at'>"
      ]
     },
     "execution_count": 10,
     "metadata": {},
     "output_type": "execute_result"
    },
    {
     "data": {
      "image/png": "[encoded data removed]",
      "text/plain": [
       "<Figure size 432x288 with 1 Axes>"
      ]
     },
     "metadata": {
      "needs_background": "light"
     },
     "output_type": "display_data"
    }
   ],
   "source": [
    "df.resample('D', on='created_at')[['client_id']].count().plot()"
   ]
  },
  {
   "cell_type": "code",
   "execution_count": 13,
   "id": "f1655495-2f97-40a5-ab90-4e375d4424d5",
   "metadata": {},
   "outputs": [],
   "source": [
    "df['age'] = ((dt.today() - df.dob).dt.days)/365"
   ]
  },
  {
   "cell_type": "code",
   "execution_count": 15,
   "id": "79fe6998-79a0-41c7-b5b8-0711fda5889c",
   "metadata": {},
   "outputs": [],
   "source": [
    "df['age'] = df.age.map(int)"
   ]
  },
  {
   "cell_type": "code",
   "execution_count": 16,
   "id": "8d811e1c-5f04-4de2-bee9-63b4b63ad434",
   "metadata": {},
   "outputs": [
    {
     "data": {
      "text/plain": [
       "<AxesSubplot:ylabel='Frequency'>"
      ]
     },
     "execution_count": 16,
     "metadata": {},
     "output_type": "execute_result"
    },
    {
     "data": {
      "image/png": "[encoded data removed]",
      "text/plain": [
       "<Figure size 432x288 with 1 Axes>"
      ]
     },
     "metadata": {
      "needs_background": "light"
     },
     "output_type": "display_data"
    }
   ],
   "source": [
    "df.age.plot(kind='hist')"
   ]
  }
 ],
 "metadata": {
  "kernelspec": {
   "display_name": "Python 3 (ipykernel)",
   "language": "python",
   "name": "python3"
  },
  "language_info": {
   "codemirror_mode": {
    "name": "ipython",
    "version": 3
   },
   "file_extension": ".py",
   "mimetype": "text/x-python",
   "name": "python",
   "nbconvert_exporter": "python",
   "pygments_lexer": "ipython3",
   "version": "3.8.3"
  }
 },
 "nbformat": 4,
 "nbformat_minor": 5
}
