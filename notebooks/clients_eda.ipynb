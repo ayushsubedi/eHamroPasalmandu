{
 "cells": [
  {
   "cell_type": "code",
   "execution_count": 11,
   "id": "83a91b39-2808-4d2f-bff0-9bdb2389454e",
   "metadata": {},
   "outputs": [],
   "source": [
    "import pandas as pd\n",
    "from datetime import datetime as dt"
   ]
  },
  {
   "cell_type": "code",
   "execution_count": 2,
   "id": "49ee099e-7981-41fb-a4f6-631ebf1373f7",
   "metadata": {},
   "outputs": [],
   "source": [
    "df = pd.read_csv('../datasets/clients.csv', parse_dates=['Created At', 'DOB'])"
   ]
  },
  {
   "cell_type": "code",
   "execution_count": 3,
   "id": "2f27cc76-b5a2-426b-b4c7-b8f184b953f3",
   "metadata": {},
   "outputs": [
    {
     "data": {
      "text/html": [
       "<div>\n",
       "<style scoped>\n",
       "    .dataframe tbody tr th:only-of-type {\n",
       "        vertical-align: middle;\n",
       "    }\n",
       "\n",
       "    .dataframe tbody tr th {\n",
       "        vertical-align: top;\n",
       "    }\n",
       "\n",
       "    .dataframe thead th {\n",
       "        text-align: right;\n",
       "    }\n",
       "</style>\n",
       "<table border=\"1\" class=\"dataframe\">\n",
       "  <thead>\n",
       "    <tr style=\"text-align: right;\">\n",
       "      <th></th>\n",
       "      <th>Client ID</th>\n",
       "      <th>Name</th>\n",
       "      <th>Gender</th>\n",
       "      <th>Email</th>\n",
       "      <th>Phone</th>\n",
       "      <th>Channel</th>\n",
       "      <th>First Contact</th>\n",
       "      <th>DOB</th>\n",
       "      <th>Created At</th>\n",
       "    </tr>\n",
       "  </thead>\n",
       "  <tbody>\n",
       "    <tr>\n",
       "      <th>0</th>\n",
       "      <td>100000000</td>\n",
       "      <td>Asutosh Angeni</td>\n",
       "      <td>Male</td>\n",
       "      <td>asutosh.angeni@fakeemail.com</td>\n",
       "      <td>9841413521</td>\n",
       "      <td>Other</td>\n",
       "      <td>browser</td>\n",
       "      <td>2002-08-25</td>\n",
       "      <td>2020-09-01 06:49:26.933516</td>\n",
       "    </tr>\n",
       "    <tr>\n",
       "      <th>1</th>\n",
       "      <td>100000001</td>\n",
       "      <td>Nitish Purbachhane</td>\n",
       "      <td>Male</td>\n",
       "      <td>nitish.purbachhane@fakeemail.com</td>\n",
       "      <td>9841552118</td>\n",
       "      <td>Facebook/Ads</td>\n",
       "      <td>browser</td>\n",
       "      <td>1991-05-10</td>\n",
       "      <td>2020-09-01 17:19:28.935853</td>\n",
       "    </tr>\n",
       "    <tr>\n",
       "      <th>2</th>\n",
       "      <td>100000002</td>\n",
       "      <td>Karuna Ojha</td>\n",
       "      <td>Other</td>\n",
       "      <td>karuna.ojha@fakeemail.com</td>\n",
       "      <td>9841745887</td>\n",
       "      <td>Facebook/Ads</td>\n",
       "      <td>app</td>\n",
       "      <td>1999-11-11</td>\n",
       "      <td>2020-09-01 17:33:26.283485</td>\n",
       "    </tr>\n",
       "    <tr>\n",
       "      <th>3</th>\n",
       "      <td>100000003</td>\n",
       "      <td>Bibhas Shibakoti</td>\n",
       "      <td>Male</td>\n",
       "      <td>bibhas.shibakoti@fakeemail.com</td>\n",
       "      <td>9841019653</td>\n",
       "      <td>Other</td>\n",
       "      <td>browser</td>\n",
       "      <td>1997-03-09</td>\n",
       "      <td>2020-09-01 11:25:45.173735</td>\n",
       "    </tr>\n",
       "    <tr>\n",
       "      <th>4</th>\n",
       "      <td>100000004</td>\n",
       "      <td>Udgam Sijali</td>\n",
       "      <td>Male</td>\n",
       "      <td>udgam.sijali@fakeemail.com</td>\n",
       "      <td>9841707406</td>\n",
       "      <td>Facebook/Ads</td>\n",
       "      <td>browser</td>\n",
       "      <td>1981-02-21</td>\n",
       "      <td>2020-09-01 11:54:58.370206</td>\n",
       "    </tr>\n",
       "    <tr>\n",
       "      <th>...</th>\n",
       "      <td>...</td>\n",
       "      <td>...</td>\n",
       "      <td>...</td>\n",
       "      <td>...</td>\n",
       "      <td>...</td>\n",
       "      <td>...</td>\n",
       "      <td>...</td>\n",
       "      <td>...</td>\n",
       "      <td>...</td>\n",
       "    </tr>\n",
       "    <tr>\n",
       "      <th>176116</th>\n",
       "      <td>100176116</td>\n",
       "      <td>Pradeep raj nepal Dhawal</td>\n",
       "      <td>Male</td>\n",
       "      <td>pradeep.raj@fakeemail.com</td>\n",
       "      <td>9841036446</td>\n",
       "      <td>Google Search</td>\n",
       "      <td>browser</td>\n",
       "      <td>2007-03-23</td>\n",
       "      <td>2021-08-31 16:18:14.039429</td>\n",
       "    </tr>\n",
       "    <tr>\n",
       "      <th>176117</th>\n",
       "      <td>100176117</td>\n",
       "      <td>Ansu Dumaru</td>\n",
       "      <td>Female</td>\n",
       "      <td>ansu.dumaru@fakeemail.com</td>\n",
       "      <td>9841568325</td>\n",
       "      <td>Facebook/Ads</td>\n",
       "      <td>browser</td>\n",
       "      <td>2000-07-04</td>\n",
       "      <td>2021-08-31 05:13:32.898012</td>\n",
       "    </tr>\n",
       "    <tr>\n",
       "      <th>176118</th>\n",
       "      <td>100176118</td>\n",
       "      <td>Yashoda Poddhar</td>\n",
       "      <td>Female</td>\n",
       "      <td>yashoda.poddhar@fakeemail.com</td>\n",
       "      <td>9841206655</td>\n",
       "      <td>Other</td>\n",
       "      <td>browser</td>\n",
       "      <td>2008-10-10</td>\n",
       "      <td>2021-08-31 20:12:54.658954</td>\n",
       "    </tr>\n",
       "    <tr>\n",
       "      <th>176119</th>\n",
       "      <td>100176119</td>\n",
       "      <td>Bikash Bhattara</td>\n",
       "      <td>Male</td>\n",
       "      <td>bikash.bhattara@fakeemail.com</td>\n",
       "      <td>9841236265</td>\n",
       "      <td>Facebook/Ads</td>\n",
       "      <td>app</td>\n",
       "      <td>1998-11-01</td>\n",
       "      <td>2021-08-31 19:44:17.607413</td>\n",
       "    </tr>\n",
       "    <tr>\n",
       "      <th>176120</th>\n",
       "      <td>100176120</td>\n",
       "      <td>Sewak Halwae</td>\n",
       "      <td>Male</td>\n",
       "      <td>sewak.halwae@fakeemail.com</td>\n",
       "      <td>9841269476</td>\n",
       "      <td>Other</td>\n",
       "      <td>browser</td>\n",
       "      <td>1987-04-11</td>\n",
       "      <td>2021-08-31 19:47:43.714092</td>\n",
       "    </tr>\n",
       "  </tbody>\n",
       "</table>\n",
       "<p>176121 rows × 9 columns</p>\n",
       "</div>"
      ],
      "text/plain": [
       "        Client ID                      Name  Gender  \\\n",
       "0       100000000            Asutosh Angeni    Male   \n",
       "1       100000001        Nitish Purbachhane    Male   \n",
       "2       100000002               Karuna Ojha   Other   \n",
       "3       100000003          Bibhas Shibakoti    Male   \n",
       "4       100000004              Udgam Sijali    Male   \n",
       "...           ...                       ...     ...   \n",
       "176116  100176116  Pradeep raj nepal Dhawal    Male   \n",
       "176117  100176117               Ansu Dumaru  Female   \n",
       "176118  100176118           Yashoda Poddhar  Female   \n",
       "176119  100176119           Bikash Bhattara    Male   \n",
       "176120  100176120              Sewak Halwae    Male   \n",
       "\n",
       "                                   Email       Phone        Channel  \\\n",
       "0           asutosh.angeni@fakeemail.com  9841413521          Other   \n",
       "1       nitish.purbachhane@fakeemail.com  9841552118   Facebook/Ads   \n",
       "2              karuna.ojha@fakeemail.com  9841745887   Facebook/Ads   \n",
       "3         bibhas.shibakoti@fakeemail.com  9841019653          Other   \n",
       "4             udgam.sijali@fakeemail.com  9841707406   Facebook/Ads   \n",
       "...                                  ...         ...            ...   \n",
       "176116         pradeep.raj@fakeemail.com  9841036446  Google Search   \n",
       "176117         ansu.dumaru@fakeemail.com  9841568325   Facebook/Ads   \n",
       "176118     yashoda.poddhar@fakeemail.com  9841206655          Other   \n",
       "176119     bikash.bhattara@fakeemail.com  9841236265   Facebook/Ads   \n",
       "176120        sewak.halwae@fakeemail.com  9841269476          Other   \n",
       "\n",
       "       First Contact        DOB                 Created At  \n",
       "0            browser 2002-08-25 2020-09-01 06:49:26.933516  \n",
       "1            browser 1991-05-10 2020-09-01 17:19:28.935853  \n",
       "2                app 1999-11-11 2020-09-01 17:33:26.283485  \n",
       "3            browser 1997-03-09 2020-09-01 11:25:45.173735  \n",
       "4            browser 1981-02-21 2020-09-01 11:54:58.370206  \n",
       "...              ...        ...                        ...  \n",
       "176116       browser 2007-03-23 2021-08-31 16:18:14.039429  \n",
       "176117       browser 2000-07-04 2021-08-31 05:13:32.898012  \n",
       "176118       browser 2008-10-10 2021-08-31 20:12:54.658954  \n",
       "176119           app 1998-11-01 2021-08-31 19:44:17.607413  \n",
       "176120       browser 1987-04-11 2021-08-31 19:47:43.714092  \n",
       "\n",
       "[176121 rows x 9 columns]"
      ]
     },
     "execution_count": 3,
     "metadata": {},
     "output_type": "execute_result"
    }
   ],
   "source": [
    "df"
   ]
  },
  {
   "cell_type": "code",
   "execution_count": 4,
   "id": "07b83eb1-dfb2-446e-a606-150e166f1f0e",
   "metadata": {},
   "outputs": [
    {
     "data": {
      "text/plain": [
       "Male                 92022\n",
       "Female               65450\n",
       "Other                12242\n",
       "Prefer not to say     6407\n",
       "Name: Gender, dtype: int64"
      ]
     },
     "execution_count": 4,
     "metadata": {},
     "output_type": "execute_result"
    }
   ],
   "source": [
    "df.Gender.value_counts()"
   ]
  },
  {
   "cell_type": "code",
   "execution_count": 5,
   "id": "2e550f36-dae7-447a-ba3e-021388397bf3",
   "metadata": {},
   "outputs": [
    {
     "data": {
      "text/plain": [
       "Facebook/Ads     67580\n",
       "Google Search    48266\n",
       "Other            30894\n",
       "Word of Mouth    29381\n",
       "Name: Channel, dtype: int64"
      ]
     },
     "execution_count": 5,
     "metadata": {},
     "output_type": "execute_result"
    }
   ],
   "source": [
    "df.Channel.value_counts()"
   ]
  },
  {
   "cell_type": "code",
   "execution_count": 6,
   "id": "16141953-a670-4308-99cd-1bce76ddb53d",
   "metadata": {},
   "outputs": [
    {
     "data": {
      "text/plain": [
       "browser    151612\n",
       "app         24509\n",
       "Name: First Contact, dtype: int64"
      ]
     },
     "execution_count": 6,
     "metadata": {},
     "output_type": "execute_result"
    }
   ],
   "source": [
    "df['First Contact'].value_counts()"
   ]
  },
  {
   "cell_type": "code",
   "execution_count": 7,
   "id": "1dbb26a9-753c-4079-b6f2-09e9e22ffc39",
   "metadata": {},
   "outputs": [
    {
     "data": {
      "text/plain": [
       "<AxesSubplot:xlabel='Created At'>"
      ]
     },
     "execution_count": 7,
     "metadata": {},
     "output_type": "execute_result"
    },
    {
     "data": {
      "image/png": "[encoded data removed]",
      "text/plain": [
       "<Figure size 432x288 with 1 Axes>"
      ]
     },
     "metadata": {
      "needs_background": "light"
     },
     "output_type": "display_data"
    }
   ],
   "source": [
    "df.resample('M', on='Created At')[['Client ID']].count().plot()"
   ]
  },
  {
   "cell_type": "code",
   "execution_count": 8,
   "id": "79fc748d-ce8b-4c24-8e2b-b38577dfe76b",
   "metadata": {},
   "outputs": [
    {
     "data": {
      "text/plain": [
       "<AxesSubplot:xlabel='Created At'>"
      ]
     },
     "execution_count": 8,
     "metadata": {},
     "output_type": "execute_result"
    },
    {
     "data": {
      "image/png": "[encoded data removed]",
      "text/plain": [
       "<Figure size 432x288 with 1 Axes>"
      ]
     },
     "metadata": {
      "needs_background": "light"
     },
     "output_type": "display_data"
    }
   ],
   "source": [
    "df.resample('D', on='Created At')[['Client ID']].count().plot()"
   ]
  },
  {
   "cell_type": "code",
   "execution_count": 28,
   "id": "f1655495-2f97-40a5-ab90-4e375d4424d5",
   "metadata": {},
   "outputs": [],
   "source": [
    "df['Age'] = ((dt.today() - df.DOB).dt.days)/365"
   ]
  },
  {
   "cell_type": "code",
   "execution_count": 30,
   "id": "79fe6998-79a0-41c7-b5b8-0711fda5889c",
   "metadata": {},
   "outputs": [],
   "source": [
    "df['Age'] = df.Age.map(int)"
   ]
  },
  {
   "cell_type": "code",
   "execution_count": 33,
   "id": "8d811e1c-5f04-4de2-bee9-63b4b63ad434",
   "metadata": {},
   "outputs": [
    {
     "data": {
      "text/plain": [
       "<AxesSubplot:ylabel='Frequency'>"
      ]
     },
     "execution_count": 33,
     "metadata": {},
     "output_type": "execute_result"
    },
    {
     "data": {
      "image/png": "[encoded data removed]",
      "text/plain": [
       "<Figure size 432x288 with 1 Axes>"
      ]
     },
     "metadata": {
      "needs_background": "light"
     },
     "output_type": "display_data"
    }
   ],
   "source": [
    "df.Age.plot(kind='hist')"
   ]
  },
  {
   "cell_type": "code",
   "execution_count": null,
   "id": "7ee1142a-4127-4dc5-be43-c2c687afa594",
   "metadata": {},
   "outputs": [],
   "source": []
  }
 ],
 "metadata": {
  "kernelspec": {
   "display_name": "Python 3 (ipykernel)",
   "language": "python",
   "name": "python3"
  },
  "language_info": {
   "codemirror_mode": {
    "name": "ipython",
    "version": 3
   },
   "file_extension": ".py",
   "mimetype": "text/x-python",
   "name": "python",
   "nbconvert_exporter": "python",
   "pygments_lexer": "ipython3",
   "version": "3.8.3"
  }
 },
 "nbformat": 4,
 "nbformat_minor": 5
}
