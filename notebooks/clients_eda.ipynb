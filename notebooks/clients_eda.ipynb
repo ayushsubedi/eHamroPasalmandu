{
 "cells": [
  {
   "cell_type": "code",
   "execution_count": 9,
   "id": "83a91b39-2808-4d2f-bff0-9bdb2389454e",
   "metadata": {},
   "outputs": [],
   "source": [
    "import pandas as pd"
   ]
  },
  {
   "cell_type": "code",
   "execution_count": 10,
   "id": "49ee099e-7981-41fb-a4f6-631ebf1373f7",
   "metadata": {},
   "outputs": [],
   "source": [
    "df = pd.read_csv('../datasets/clients.csv', parse_dates=['Created At'])"
   ]
  },
  {
   "cell_type": "code",
   "execution_count": 11,
   "id": "2f27cc76-b5a2-426b-b4c7-b8f184b953f3",
   "metadata": {},
   "outputs": [
    {
     "data": {
      "text/html": [
       "<div>\n",
       "<style scoped>\n",
       "    .dataframe tbody tr th:only-of-type {\n",
       "        vertical-align: middle;\n",
       "    }\n",
       "\n",
       "    .dataframe tbody tr th {\n",
       "        vertical-align: top;\n",
       "    }\n",
       "\n",
       "    .dataframe thead th {\n",
       "        text-align: right;\n",
       "    }\n",
       "</style>\n",
       "<table border=\"1\" class=\"dataframe\">\n",
       "  <thead>\n",
       "    <tr style=\"text-align: right;\">\n",
       "      <th></th>\n",
       "      <th>Client ID</th>\n",
       "      <th>Name</th>\n",
       "      <th>Gender</th>\n",
       "      <th>Email</th>\n",
       "      <th>Phone</th>\n",
       "      <th>Channel</th>\n",
       "      <th>First Contact</th>\n",
       "      <th>Created At</th>\n",
       "    </tr>\n",
       "  </thead>\n",
       "  <tbody>\n",
       "    <tr>\n",
       "      <th>0</th>\n",
       "      <td>100000000</td>\n",
       "      <td>Reshma Munankami</td>\n",
       "      <td>Female</td>\n",
       "      <td>reshma.munankami@fakeemail.com</td>\n",
       "      <td>9841331512</td>\n",
       "      <td>Other</td>\n",
       "      <td>browser</td>\n",
       "      <td>2020-09-01 18:20:40.903790</td>\n",
       "    </tr>\n",
       "    <tr>\n",
       "      <th>1</th>\n",
       "      <td>100000001</td>\n",
       "      <td>Ansu Vattarai</td>\n",
       "      <td>Female</td>\n",
       "      <td>ansu.vattarai@fakeemail.com</td>\n",
       "      <td>9841450867</td>\n",
       "      <td>Facebook/Ads</td>\n",
       "      <td>browser</td>\n",
       "      <td>2020-09-01 21:46:28.860714</td>\n",
       "    </tr>\n",
       "    <tr>\n",
       "      <th>2</th>\n",
       "      <td>100000002</td>\n",
       "      <td>Sneha Gajurel</td>\n",
       "      <td>Female</td>\n",
       "      <td>sneha.gajurel@fakeemail.com</td>\n",
       "      <td>9841633496</td>\n",
       "      <td>Google Search</td>\n",
       "      <td>browser</td>\n",
       "      <td>2020-09-01 13:24:52.747578</td>\n",
       "    </tr>\n",
       "    <tr>\n",
       "      <th>3</th>\n",
       "      <td>100000003</td>\n",
       "      <td>Alina Timla</td>\n",
       "      <td>Female</td>\n",
       "      <td>alina.timla@fakeemail.com</td>\n",
       "      <td>9841108375</td>\n",
       "      <td>Word of Mouth</td>\n",
       "      <td>browser</td>\n",
       "      <td>2020-09-01 22:04:01.017755</td>\n",
       "    </tr>\n",
       "    <tr>\n",
       "      <th>4</th>\n",
       "      <td>100000004</td>\n",
       "      <td>Chandra Gahire</td>\n",
       "      <td>Male</td>\n",
       "      <td>chandra.gahire@fakeemail.com</td>\n",
       "      <td>9841446915</td>\n",
       "      <td>Word of Mouth</td>\n",
       "      <td>browser</td>\n",
       "      <td>2020-09-01 06:23:29.865037</td>\n",
       "    </tr>\n",
       "    <tr>\n",
       "      <th>...</th>\n",
       "      <td>...</td>\n",
       "      <td>...</td>\n",
       "      <td>...</td>\n",
       "      <td>...</td>\n",
       "      <td>...</td>\n",
       "      <td>...</td>\n",
       "      <td>...</td>\n",
       "      <td>...</td>\n",
       "    </tr>\n",
       "    <tr>\n",
       "      <th>175510</th>\n",
       "      <td>100175510</td>\n",
       "      <td>Yahnaa Siddhi</td>\n",
       "      <td>Female</td>\n",
       "      <td>yahnaa.siddhi@fakeemail.com</td>\n",
       "      <td>9841557325</td>\n",
       "      <td>Word of Mouth</td>\n",
       "      <td>browser</td>\n",
       "      <td>2021-08-31 02:53:24.818853</td>\n",
       "    </tr>\n",
       "    <tr>\n",
       "      <th>175511</th>\n",
       "      <td>100175511</td>\n",
       "      <td>Sajit Jamakrattel</td>\n",
       "      <td>Male</td>\n",
       "      <td>sajit.jamakrattel@fakeemail.com</td>\n",
       "      <td>9841191704</td>\n",
       "      <td>Facebook/Ads</td>\n",
       "      <td>app</td>\n",
       "      <td>2021-08-31 13:56:44.151404</td>\n",
       "    </tr>\n",
       "    <tr>\n",
       "      <th>175512</th>\n",
       "      <td>100175512</td>\n",
       "      <td>Yashoda Sedhai</td>\n",
       "      <td>Other</td>\n",
       "      <td>yashoda.sedhai@fakeemail.com</td>\n",
       "      <td>9841268244</td>\n",
       "      <td>Facebook/Ads</td>\n",
       "      <td>browser</td>\n",
       "      <td>2021-08-31 14:02:42.656826</td>\n",
       "    </tr>\n",
       "    <tr>\n",
       "      <th>175513</th>\n",
       "      <td>100175513</td>\n",
       "      <td>Rabindra Dhungel</td>\n",
       "      <td>Male</td>\n",
       "      <td>rabindra.dhungel@fakeemail.com</td>\n",
       "      <td>9841519356</td>\n",
       "      <td>Facebook/Ads</td>\n",
       "      <td>app</td>\n",
       "      <td>2021-08-31 10:26:50.417715</td>\n",
       "    </tr>\n",
       "    <tr>\n",
       "      <th>175514</th>\n",
       "      <td>100175514</td>\n",
       "      <td>Karuna Yengden</td>\n",
       "      <td>Female</td>\n",
       "      <td>karuna.yengden@fakeemail.com</td>\n",
       "      <td>9841301132</td>\n",
       "      <td>Google Search</td>\n",
       "      <td>browser</td>\n",
       "      <td>2021-08-31 12:44:28.100817</td>\n",
       "    </tr>\n",
       "  </tbody>\n",
       "</table>\n",
       "<p>175515 rows × 8 columns</p>\n",
       "</div>"
      ],
      "text/plain": [
       "        Client ID               Name  Gender                            Email  \\\n",
       "0       100000000   Reshma Munankami  Female   reshma.munankami@fakeemail.com   \n",
       "1       100000001      Ansu Vattarai  Female      ansu.vattarai@fakeemail.com   \n",
       "2       100000002      Sneha Gajurel  Female      sneha.gajurel@fakeemail.com   \n",
       "3       100000003        Alina Timla  Female        alina.timla@fakeemail.com   \n",
       "4       100000004     Chandra Gahire    Male     chandra.gahire@fakeemail.com   \n",
       "...           ...                ...     ...                              ...   \n",
       "175510  100175510      Yahnaa Siddhi  Female      yahnaa.siddhi@fakeemail.com   \n",
       "175511  100175511  Sajit Jamakrattel    Male  sajit.jamakrattel@fakeemail.com   \n",
       "175512  100175512     Yashoda Sedhai   Other     yashoda.sedhai@fakeemail.com   \n",
       "175513  100175513   Rabindra Dhungel    Male   rabindra.dhungel@fakeemail.com   \n",
       "175514  100175514     Karuna Yengden  Female     karuna.yengden@fakeemail.com   \n",
       "\n",
       "             Phone        Channel First Contact                 Created At  \n",
       "0       9841331512          Other       browser 2020-09-01 18:20:40.903790  \n",
       "1       9841450867   Facebook/Ads       browser 2020-09-01 21:46:28.860714  \n",
       "2       9841633496  Google Search       browser 2020-09-01 13:24:52.747578  \n",
       "3       9841108375  Word of Mouth       browser 2020-09-01 22:04:01.017755  \n",
       "4       9841446915  Word of Mouth       browser 2020-09-01 06:23:29.865037  \n",
       "...            ...            ...           ...                        ...  \n",
       "175510  9841557325  Word of Mouth       browser 2021-08-31 02:53:24.818853  \n",
       "175511  9841191704   Facebook/Ads           app 2021-08-31 13:56:44.151404  \n",
       "175512  9841268244   Facebook/Ads       browser 2021-08-31 14:02:42.656826  \n",
       "175513  9841519356   Facebook/Ads           app 2021-08-31 10:26:50.417715  \n",
       "175514  9841301132  Google Search       browser 2021-08-31 12:44:28.100817  \n",
       "\n",
       "[175515 rows x 8 columns]"
      ]
     },
     "execution_count": 11,
     "metadata": {},
     "output_type": "execute_result"
    }
   ],
   "source": [
    "df"
   ]
  },
  {
   "cell_type": "code",
   "execution_count": 12,
   "id": "07b83eb1-dfb2-446e-a606-150e166f1f0e",
   "metadata": {},
   "outputs": [
    {
     "data": {
      "text/plain": [
       "Male                 91749\n",
       "Female               65223\n",
       "Other                12168\n",
       "Prefer not to say     6375\n",
       "Name: Gender, dtype: int64"
      ]
     },
     "execution_count": 12,
     "metadata": {},
     "output_type": "execute_result"
    }
   ],
   "source": [
    "df.Gender.value_counts()"
   ]
  },
  {
   "cell_type": "code",
   "execution_count": 13,
   "id": "2e550f36-dae7-447a-ba3e-021388397bf3",
   "metadata": {},
   "outputs": [
    {
     "data": {
      "text/plain": [
       "Facebook/Ads     67396\n",
       "Google Search    47913\n",
       "Other            30764\n",
       "Word of Mouth    29442\n",
       "Name: Channel, dtype: int64"
      ]
     },
     "execution_count": 13,
     "metadata": {},
     "output_type": "execute_result"
    }
   ],
   "source": [
    "df.Channel.value_counts()"
   ]
  },
  {
   "cell_type": "code",
   "execution_count": 14,
   "id": "16141953-a670-4308-99cd-1bce76ddb53d",
   "metadata": {},
   "outputs": [
    {
     "data": {
      "text/plain": [
       "browser    151013\n",
       "app         24502\n",
       "Name: First Contact, dtype: int64"
      ]
     },
     "execution_count": 14,
     "metadata": {},
     "output_type": "execute_result"
    }
   ],
   "source": [
    "df['First Contact'].value_counts()"
   ]
  },
  {
   "cell_type": "code",
   "execution_count": 19,
   "id": "1dbb26a9-753c-4079-b6f2-09e9e22ffc39",
   "metadata": {},
   "outputs": [
    {
     "data": {
      "text/plain": [
       "<AxesSubplot:xlabel='Created At'>"
      ]
     },
     "execution_count": 19,
     "metadata": {},
     "output_type": "execute_result"
    },
    {
     "data": {
      "image/png": "[encoded data removed]",
      "text/plain": [
       "<Figure size 432x288 with 1 Axes>"
      ]
     },
     "metadata": {
      "needs_background": "light"
     },
     "output_type": "display_data"
    }
   ],
   "source": [
    "df.resample('M', on='Created At')[['Client ID']].count().plot()"
   ]
  },
  {
   "cell_type": "code",
   "execution_count": 20,
   "id": "79fc748d-ce8b-4c24-8e2b-b38577dfe76b",
   "metadata": {},
   "outputs": [
    {
     "data": {
      "text/plain": [
       "<AxesSubplot:xlabel='Created At'>"
      ]
     },
     "execution_count": 20,
     "metadata": {},
     "output_type": "execute_result"
    },
    {
     "data": {
      "image/png": "[encoded data removed]",
      "text/plain": [
       "<Figure size 432x288 with 1 Axes>"
      ]
     },
     "metadata": {
      "needs_background": "light"
     },
     "output_type": "display_data"
    }
   ],
   "source": [
    "df.resample('D', on='Created At')[['Client ID']].count().plot()"
   ]
  }
 ],
 "metadata": {
  "kernelspec": {
   "display_name": "Python 3 (ipykernel)",
   "language": "python",
   "name": "python3"
  },
  "language_info": {
   "codemirror_mode": {
    "name": "ipython",
    "version": 3
   },
   "file_extension": ".py",
   "mimetype": "text/x-python",
   "name": "python",
   "nbconvert_exporter": "python",
   "pygments_lexer": "ipython3",
   "version": "3.8.3"
  }
 },
 "nbformat": 4,
 "nbformat_minor": 5
}
