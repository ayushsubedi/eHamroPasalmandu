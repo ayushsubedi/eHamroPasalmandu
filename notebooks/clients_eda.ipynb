{
 "cells": [
  {
   "cell_type": "code",
   "execution_count": 12,
   "id": "83a91b39-2808-4d2f-bff0-9bdb2389454e",
   "metadata": {},
   "outputs": [],
   "source": [
    "import pandas as pd\n",
    "from datetime import datetime as dt"
   ]
  },
  {
   "cell_type": "code",
   "execution_count": 13,
   "id": "49ee099e-7981-41fb-a4f6-631ebf1373f7",
   "metadata": {},
   "outputs": [],
   "source": [
    "df = pd.read_csv('../datasets/clients.csv', parse_dates=['created_at', 'dob'])"
   ]
  },
  {
   "cell_type": "code",
   "execution_count": 14,
   "id": "2f27cc76-b5a2-426b-b4c7-b8f184b953f3",
   "metadata": {},
   "outputs": [
    {
     "data": {
      "text/html": [
       "<div>\n",
       "<style scoped>\n",
       "    .dataframe tbody tr th:only-of-type {\n",
       "        vertical-align: middle;\n",
       "    }\n",
       "\n",
       "    .dataframe tbody tr th {\n",
       "        vertical-align: top;\n",
       "    }\n",
       "\n",
       "    .dataframe thead th {\n",
       "        text-align: right;\n",
       "    }\n",
       "</style>\n",
       "<table border=\"1\" class=\"dataframe\">\n",
       "  <thead>\n",
       "    <tr style=\"text-align: right;\">\n",
       "      <th></th>\n",
       "      <th>client_id</th>\n",
       "      <th>name</th>\n",
       "      <th>gender</th>\n",
       "      <th>dob</th>\n",
       "      <th>email</th>\n",
       "      <th>phone</th>\n",
       "      <th>channel</th>\n",
       "      <th>first_contact</th>\n",
       "      <th>lat</th>\n",
       "      <th>lon</th>\n",
       "      <th>location_name</th>\n",
       "      <th>created_at</th>\n",
       "    </tr>\n",
       "  </thead>\n",
       "  <tbody>\n",
       "    <tr>\n",
       "      <th>0</th>\n",
       "      <td>100000000</td>\n",
       "      <td>Krishna Bhandary</td>\n",
       "      <td>Male</td>\n",
       "      <td>1999-07-01</td>\n",
       "      <td>krishna.bhandary@fakeemail.com</td>\n",
       "      <td>9841315767</td>\n",
       "      <td>Word of Mouth</td>\n",
       "      <td>app</td>\n",
       "      <td>27.7182</td>\n",
       "      <td>85.3190</td>\n",
       "      <td>Metro Park</td>\n",
       "      <td>2020-09-01 03:55:29.289668</td>\n",
       "    </tr>\n",
       "    <tr>\n",
       "      <th>1</th>\n",
       "      <td>100000001</td>\n",
       "      <td>Chandra Tamata</td>\n",
       "      <td>Male</td>\n",
       "      <td>2008-06-06</td>\n",
       "      <td>chandra.tamata@fakeemail.com</td>\n",
       "      <td>9841880995</td>\n",
       "      <td>Facebook/Ads</td>\n",
       "      <td>browser</td>\n",
       "      <td>27.6879</td>\n",
       "      <td>85.3310</td>\n",
       "      <td>Shram Marg</td>\n",
       "      <td>2020-09-01 20:24:59.075054</td>\n",
       "    </tr>\n",
       "    <tr>\n",
       "      <th>2</th>\n",
       "      <td>100000002</td>\n",
       "      <td>Sunita Bhetuwal</td>\n",
       "      <td>Prefer not to say</td>\n",
       "      <td>2002-06-14</td>\n",
       "      <td>sunita.bhetuwal@fakeemail.com</td>\n",
       "      <td>9841429617</td>\n",
       "      <td>Google Search</td>\n",
       "      <td>browser</td>\n",
       "      <td>27.6830</td>\n",
       "      <td>85.3112</td>\n",
       "      <td>Jhamsikhel Rd</td>\n",
       "      <td>2020-09-01 06:11:40.903705</td>\n",
       "    </tr>\n",
       "    <tr>\n",
       "      <th>3</th>\n",
       "      <td>100000003</td>\n",
       "      <td>Shubhu Twitwi</td>\n",
       "      <td>Female</td>\n",
       "      <td>2005-02-14</td>\n",
       "      <td>shubhu.twitwi@fakeemail.com</td>\n",
       "      <td>9841695679</td>\n",
       "      <td>Google Search</td>\n",
       "      <td>browser</td>\n",
       "      <td>27.7083</td>\n",
       "      <td>85.2885</td>\n",
       "      <td>Mountview kiddie school</td>\n",
       "      <td>2020-09-01 13:47:49.286772</td>\n",
       "    </tr>\n",
       "    <tr>\n",
       "      <th>4</th>\n",
       "      <td>100000004</td>\n",
       "      <td>Nikkon Sakha</td>\n",
       "      <td>Male</td>\n",
       "      <td>1983-06-26</td>\n",
       "      <td>nikkon.sakha@fakeemail.com</td>\n",
       "      <td>9841625954</td>\n",
       "      <td>Google Search</td>\n",
       "      <td>browser</td>\n",
       "      <td>27.7177</td>\n",
       "      <td>85.3280</td>\n",
       "      <td>Gairidhara Rd</td>\n",
       "      <td>2020-09-01 16:21:23.227790</td>\n",
       "    </tr>\n",
       "    <tr>\n",
       "      <th>...</th>\n",
       "      <td>...</td>\n",
       "      <td>...</td>\n",
       "      <td>...</td>\n",
       "      <td>...</td>\n",
       "      <td>...</td>\n",
       "      <td>...</td>\n",
       "      <td>...</td>\n",
       "      <td>...</td>\n",
       "      <td>...</td>\n",
       "      <td>...</td>\n",
       "      <td>...</td>\n",
       "      <td>...</td>\n",
       "    </tr>\n",
       "    <tr>\n",
       "      <th>561871</th>\n",
       "      <td>100561871</td>\n",
       "      <td>Anjan Sawa</td>\n",
       "      <td>Male</td>\n",
       "      <td>2000-09-15</td>\n",
       "      <td>anjan.sawa@fakeemail.com</td>\n",
       "      <td>9841655186</td>\n",
       "      <td>Facebook/Ads</td>\n",
       "      <td>browser</td>\n",
       "      <td>27.7538</td>\n",
       "      <td>85.3509</td>\n",
       "      <td>Mountain Monarch Adventures</td>\n",
       "      <td>2021-08-31 15:32:30.379858</td>\n",
       "    </tr>\n",
       "    <tr>\n",
       "      <th>561872</th>\n",
       "      <td>100561872</td>\n",
       "      <td>Aakash Banmali</td>\n",
       "      <td>Male</td>\n",
       "      <td>2002-04-04</td>\n",
       "      <td>aakash.banmali@fakeemail.com</td>\n",
       "      <td>9841124188</td>\n",
       "      <td>Other</td>\n",
       "      <td>browser</td>\n",
       "      <td>27.7198</td>\n",
       "      <td>85.3379</td>\n",
       "      <td>Dhanawantari Marg</td>\n",
       "      <td>2021-08-31 07:42:41.074620</td>\n",
       "    </tr>\n",
       "    <tr>\n",
       "      <th>561873</th>\n",
       "      <td>100561873</td>\n",
       "      <td>Nisu Dhungan</td>\n",
       "      <td>Female</td>\n",
       "      <td>1992-01-26</td>\n",
       "      <td>nisu.dhungan@fakeemail.com</td>\n",
       "      <td>9841716163</td>\n",
       "      <td>Facebook/Ads</td>\n",
       "      <td>app</td>\n",
       "      <td>27.7131</td>\n",
       "      <td>85.3246</td>\n",
       "      <td>Bhagawati Marg</td>\n",
       "      <td>2021-08-31 13:25:51.409598</td>\n",
       "    </tr>\n",
       "    <tr>\n",
       "      <th>561874</th>\n",
       "      <td>100561874</td>\n",
       "      <td>Lune Adhikaari</td>\n",
       "      <td>Female</td>\n",
       "      <td>1997-03-17</td>\n",
       "      <td>lune.adhikaari@fakeemail.com</td>\n",
       "      <td>9841248719</td>\n",
       "      <td>Facebook/Ads</td>\n",
       "      <td>browser</td>\n",
       "      <td>27.6717</td>\n",
       "      <td>85.3192</td>\n",
       "      <td>Lagankhel Satdobato Rd</td>\n",
       "      <td>2021-08-31 22:55:38.269442</td>\n",
       "    </tr>\n",
       "    <tr>\n",
       "      <th>561875</th>\n",
       "      <td>100561875</td>\n",
       "      <td>Krishh Ruwali</td>\n",
       "      <td>Male</td>\n",
       "      <td>2008-05-04</td>\n",
       "      <td>krishh.ruwali@fakeemail.com</td>\n",
       "      <td>9841080441</td>\n",
       "      <td>Facebook/Ads</td>\n",
       "      <td>browser</td>\n",
       "      <td>27.7138</td>\n",
       "      <td>85.3035</td>\n",
       "      <td>Academy Of Sacred Hearts</td>\n",
       "      <td>2021-08-31 19:32:07.307585</td>\n",
       "    </tr>\n",
       "  </tbody>\n",
       "</table>\n",
       "<p>561876 rows × 12 columns</p>\n",
       "</div>"
      ],
      "text/plain": [
       "        client_id              name             gender        dob  \\\n",
       "0       100000000  Krishna Bhandary               Male 1999-07-01   \n",
       "1       100000001    Chandra Tamata               Male 2008-06-06   \n",
       "2       100000002   Sunita Bhetuwal  Prefer not to say 2002-06-14   \n",
       "3       100000003     Shubhu Twitwi             Female 2005-02-14   \n",
       "4       100000004      Nikkon Sakha               Male 1983-06-26   \n",
       "...           ...               ...                ...        ...   \n",
       "561871  100561871        Anjan Sawa               Male 2000-09-15   \n",
       "561872  100561872    Aakash Banmali               Male 2002-04-04   \n",
       "561873  100561873      Nisu Dhungan             Female 1992-01-26   \n",
       "561874  100561874    Lune Adhikaari             Female 1997-03-17   \n",
       "561875  100561875     Krishh Ruwali               Male 2008-05-04   \n",
       "\n",
       "                                 email       phone        channel  \\\n",
       "0       krishna.bhandary@fakeemail.com  9841315767  Word of Mouth   \n",
       "1         chandra.tamata@fakeemail.com  9841880995   Facebook/Ads   \n",
       "2        sunita.bhetuwal@fakeemail.com  9841429617  Google Search   \n",
       "3          shubhu.twitwi@fakeemail.com  9841695679  Google Search   \n",
       "4           nikkon.sakha@fakeemail.com  9841625954  Google Search   \n",
       "...                                ...         ...            ...   \n",
       "561871        anjan.sawa@fakeemail.com  9841655186   Facebook/Ads   \n",
       "561872    aakash.banmali@fakeemail.com  9841124188          Other   \n",
       "561873      nisu.dhungan@fakeemail.com  9841716163   Facebook/Ads   \n",
       "561874    lune.adhikaari@fakeemail.com  9841248719   Facebook/Ads   \n",
       "561875     krishh.ruwali@fakeemail.com  9841080441   Facebook/Ads   \n",
       "\n",
       "       first_contact      lat      lon                location_name  \\\n",
       "0                app  27.7182  85.3190                   Metro Park   \n",
       "1            browser  27.6879  85.3310                   Shram Marg   \n",
       "2            browser  27.6830  85.3112                Jhamsikhel Rd   \n",
       "3            browser  27.7083  85.2885      Mountview kiddie school   \n",
       "4            browser  27.7177  85.3280                Gairidhara Rd   \n",
       "...              ...      ...      ...                          ...   \n",
       "561871       browser  27.7538  85.3509  Mountain Monarch Adventures   \n",
       "561872       browser  27.7198  85.3379            Dhanawantari Marg   \n",
       "561873           app  27.7131  85.3246               Bhagawati Marg   \n",
       "561874       browser  27.6717  85.3192       Lagankhel Satdobato Rd   \n",
       "561875       browser  27.7138  85.3035     Academy Of Sacred Hearts   \n",
       "\n",
       "                       created_at  \n",
       "0      2020-09-01 03:55:29.289668  \n",
       "1      2020-09-01 20:24:59.075054  \n",
       "2      2020-09-01 06:11:40.903705  \n",
       "3      2020-09-01 13:47:49.286772  \n",
       "4      2020-09-01 16:21:23.227790  \n",
       "...                           ...  \n",
       "561871 2021-08-31 15:32:30.379858  \n",
       "561872 2021-08-31 07:42:41.074620  \n",
       "561873 2021-08-31 13:25:51.409598  \n",
       "561874 2021-08-31 22:55:38.269442  \n",
       "561875 2021-08-31 19:32:07.307585  \n",
       "\n",
       "[561876 rows x 12 columns]"
      ]
     },
     "execution_count": 14,
     "metadata": {},
     "output_type": "execute_result"
    }
   ],
   "source": [
    "df"
   ]
  },
  {
   "cell_type": "code",
   "execution_count": 15,
   "id": "07b83eb1-dfb2-446e-a606-150e166f1f0e",
   "metadata": {},
   "outputs": [
    {
     "data": {
      "text/plain": [
       "Male                 293429\n",
       "Female               208845\n",
       "Other                 39165\n",
       "Prefer not to say     20437\n",
       "Name: gender, dtype: int64"
      ]
     },
     "execution_count": 15,
     "metadata": {},
     "output_type": "execute_result"
    }
   ],
   "source": [
    "df.gender.value_counts()"
   ]
  },
  {
   "cell_type": "code",
   "execution_count": 16,
   "id": "2e550f36-dae7-447a-ba3e-021388397bf3",
   "metadata": {},
   "outputs": [
    {
     "data": {
      "text/plain": [
       "Facebook/Ads     215641\n",
       "Google Search    154201\n",
       "Other             98770\n",
       "Word of Mouth     93264\n",
       "Name: channel, dtype: int64"
      ]
     },
     "execution_count": 16,
     "metadata": {},
     "output_type": "execute_result"
    }
   ],
   "source": [
    "df.channel.value_counts()"
   ]
  },
  {
   "cell_type": "code",
   "execution_count": 17,
   "id": "16141953-a670-4308-99cd-1bce76ddb53d",
   "metadata": {},
   "outputs": [
    {
     "data": {
      "text/plain": [
       "browser    483092\n",
       "app         78784\n",
       "Name: first_contact, dtype: int64"
      ]
     },
     "execution_count": 17,
     "metadata": {},
     "output_type": "execute_result"
    }
   ],
   "source": [
    "df['first_contact'].value_counts()"
   ]
  },
  {
   "cell_type": "code",
   "execution_count": 18,
   "id": "1dbb26a9-753c-4079-b6f2-09e9e22ffc39",
   "metadata": {},
   "outputs": [
    {
     "data": {
      "text/plain": [
       "<AxesSubplot:xlabel='created_at'>"
      ]
     },
     "execution_count": 18,
     "metadata": {},
     "output_type": "execute_result"
    },
    {
     "data": {
      "image/png": "[encoded data removed]",
      "text/plain": [
       "<Figure size 432x288 with 1 Axes>"
      ]
     },
     "metadata": {
      "needs_background": "light"
     },
     "output_type": "display_data"
    }
   ],
   "source": [
    "df.resample('M', on='created_at')[['client_id']].count().plot()"
   ]
  },
  {
   "cell_type": "code",
   "execution_count": 19,
   "id": "79fc748d-ce8b-4c24-8e2b-b38577dfe76b",
   "metadata": {},
   "outputs": [
    {
     "data": {
      "text/plain": [
       "<AxesSubplot:xlabel='created_at'>"
      ]
     },
     "execution_count": 19,
     "metadata": {},
     "output_type": "execute_result"
    },
    {
     "data": {
      "image/png": "[encoded data removed]",
      "text/plain": [
       "<Figure size 432x288 with 1 Axes>"
      ]
     },
     "metadata": {
      "needs_background": "light"
     },
     "output_type": "display_data"
    }
   ],
   "source": [
    "df.resample('D', on='created_at')[['client_id']].count().plot()"
   ]
  },
  {
   "cell_type": "code",
   "execution_count": 20,
   "id": "f1655495-2f97-40a5-ab90-4e375d4424d5",
   "metadata": {},
   "outputs": [],
   "source": [
    "df['age'] = ((dt.today() - df.dob).dt.days)/365"
   ]
  },
  {
   "cell_type": "code",
   "execution_count": 21,
   "id": "79fe6998-79a0-41c7-b5b8-0711fda5889c",
   "metadata": {},
   "outputs": [],
   "source": [
    "df['age'] = df.age.map(int)"
   ]
  },
  {
   "cell_type": "code",
   "execution_count": 11,
   "id": "8d811e1c-5f04-4de2-bee9-63b4b63ad434",
   "metadata": {},
   "outputs": [
    {
     "data": {
      "text/plain": [
       "<AxesSubplot:ylabel='Frequency'>"
      ]
     },
     "execution_count": 11,
     "metadata": {},
     "output_type": "execute_result"
    },
    {
     "data": {
      "image/png": "[encoded data removed]",
      "text/plain": [
       "<Figure size 432x288 with 1 Axes>"
      ]
     },
     "metadata": {
      "needs_background": "light"
     },
     "output_type": "display_data"
    }
   ],
   "source": [
    "df.age.plot(kind='hist')"
   ]
  }
 ],
 "metadata": {
  "kernelspec": {
   "display_name": "Python 3 (ipykernel)",
   "language": "python",
   "name": "python3"
  },
  "language_info": {
   "codemirror_mode": {
    "name": "ipython",
    "version": 3
   },
   "file_extension": ".py",
   "mimetype": "text/x-python",
   "name": "python",
   "nbconvert_exporter": "python",
   "pygments_lexer": "ipython3",
   "version": "3.8.3"
  }
 },
 "nbformat": 4,
 "nbformat_minor": 5
}
