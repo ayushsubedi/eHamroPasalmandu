{
 "cells": [
  {
   "cell_type": "code",
   "execution_count": 1,
   "id": "83a91b39-2808-4d2f-bff0-9bdb2389454e",
   "metadata": {},
   "outputs": [],
   "source": [
    "import pandas as pd\n",
    "from datetime import datetime as dt"
   ]
  },
  {
   "cell_type": "code",
   "execution_count": 2,
   "id": "49ee099e-7981-41fb-a4f6-631ebf1373f7",
   "metadata": {},
   "outputs": [],
   "source": [
    "df = pd.read_csv('../datasets/clients.csv', parse_dates=['created_at', 'dob'])"
   ]
  },
  {
   "cell_type": "code",
   "execution_count": 3,
   "id": "2f27cc76-b5a2-426b-b4c7-b8f184b953f3",
   "metadata": {},
   "outputs": [
    {
     "data": {
      "text/html": [
       "<div>\n",
       "<style scoped>\n",
       "    .dataframe tbody tr th:only-of-type {\n",
       "        vertical-align: middle;\n",
       "    }\n",
       "\n",
       "    .dataframe tbody tr th {\n",
       "        vertical-align: top;\n",
       "    }\n",
       "\n",
       "    .dataframe thead th {\n",
       "        text-align: right;\n",
       "    }\n",
       "</style>\n",
       "<table border=\"1\" class=\"dataframe\">\n",
       "  <thead>\n",
       "    <tr style=\"text-align: right;\">\n",
       "      <th></th>\n",
       "      <th>client_id</th>\n",
       "      <th>name</th>\n",
       "      <th>gender</th>\n",
       "      <th>dob</th>\n",
       "      <th>email</th>\n",
       "      <th>phone</th>\n",
       "      <th>channel</th>\n",
       "      <th>first_contact</th>\n",
       "      <th>created_at</th>\n",
       "    </tr>\n",
       "  </thead>\n",
       "  <tbody>\n",
       "    <tr>\n",
       "      <th>0</th>\n",
       "      <td>100000000</td>\n",
       "      <td>Sneha Paswaan</td>\n",
       "      <td>Female</td>\n",
       "      <td>2004-10-31</td>\n",
       "      <td>sneha.paswaan@fakeemail.com</td>\n",
       "      <td>9841733564</td>\n",
       "      <td>Facebook/Ads</td>\n",
       "      <td>browser</td>\n",
       "      <td>2020-09-01 07:02:35.699489</td>\n",
       "    </tr>\n",
       "    <tr>\n",
       "      <th>1</th>\n",
       "      <td>100000001</td>\n",
       "      <td>Asisnero Bijukchhetimala</td>\n",
       "      <td>Male</td>\n",
       "      <td>2002-12-22</td>\n",
       "      <td>asisnero.bijukchhetimala@fakeemail.com</td>\n",
       "      <td>9841481624</td>\n",
       "      <td>Facebook/Ads</td>\n",
       "      <td>browser</td>\n",
       "      <td>2020-09-01 12:26:15.923573</td>\n",
       "    </tr>\n",
       "    <tr>\n",
       "      <th>2</th>\n",
       "      <td>100000002</td>\n",
       "      <td>Czan duwal Hajam</td>\n",
       "      <td>Male</td>\n",
       "      <td>2003-10-27</td>\n",
       "      <td>czan.duwal@fakeemail.com</td>\n",
       "      <td>9841129648</td>\n",
       "      <td>Other</td>\n",
       "      <td>browser</td>\n",
       "      <td>2020-09-01 03:34:09.346971</td>\n",
       "    </tr>\n",
       "    <tr>\n",
       "      <th>3</th>\n",
       "      <td>100000003</td>\n",
       "      <td>Anish Gaha</td>\n",
       "      <td>Male</td>\n",
       "      <td>1987-12-06</td>\n",
       "      <td>anish.gaha@fakeemail.com</td>\n",
       "      <td>9841972435</td>\n",
       "      <td>Google Search</td>\n",
       "      <td>browser</td>\n",
       "      <td>2020-09-01 06:11:13.041308</td>\n",
       "    </tr>\n",
       "    <tr>\n",
       "      <th>4</th>\n",
       "      <td>100000004</td>\n",
       "      <td>Alina Prashad</td>\n",
       "      <td>Female</td>\n",
       "      <td>1999-11-09</td>\n",
       "      <td>alina.prashad@fakeemail.com</td>\n",
       "      <td>9841955544</td>\n",
       "      <td>Facebook/Ads</td>\n",
       "      <td>browser</td>\n",
       "      <td>2020-09-01 10:35:03.629528</td>\n",
       "    </tr>\n",
       "    <tr>\n",
       "      <th>...</th>\n",
       "      <td>...</td>\n",
       "      <td>...</td>\n",
       "      <td>...</td>\n",
       "      <td>...</td>\n",
       "      <td>...</td>\n",
       "      <td>...</td>\n",
       "      <td>...</td>\n",
       "      <td>...</td>\n",
       "      <td>...</td>\n",
       "    </tr>\n",
       "    <tr>\n",
       "      <th>289622</th>\n",
       "      <td>100289622</td>\n",
       "      <td>Nisu Bhusal</td>\n",
       "      <td>Female</td>\n",
       "      <td>1998-09-29</td>\n",
       "      <td>nisu.bhusal@fakeemail.com</td>\n",
       "      <td>9841193643</td>\n",
       "      <td>Other</td>\n",
       "      <td>browser</td>\n",
       "      <td>2021-08-31 02:31:44.495466</td>\n",
       "    </tr>\n",
       "    <tr>\n",
       "      <th>289623</th>\n",
       "      <td>100289623</td>\n",
       "      <td>Riyane Bagdiya</td>\n",
       "      <td>Prefer not to say</td>\n",
       "      <td>1996-07-21</td>\n",
       "      <td>riyane.bagdiya@fakeemail.com</td>\n",
       "      <td>9841685776</td>\n",
       "      <td>Google Search</td>\n",
       "      <td>browser</td>\n",
       "      <td>2021-08-31 00:38:45.882240</td>\n",
       "    </tr>\n",
       "    <tr>\n",
       "      <th>289624</th>\n",
       "      <td>100289624</td>\n",
       "      <td>Sam Kasti</td>\n",
       "      <td>Male</td>\n",
       "      <td>2001-01-06</td>\n",
       "      <td>sam.kasti@fakeemail.com</td>\n",
       "      <td>9841594962</td>\n",
       "      <td>Google Search</td>\n",
       "      <td>app</td>\n",
       "      <td>2021-08-31 21:22:54.489598</td>\n",
       "    </tr>\n",
       "    <tr>\n",
       "      <th>289625</th>\n",
       "      <td>100289625</td>\n",
       "      <td>Kusum Shresthacharya</td>\n",
       "      <td>Female</td>\n",
       "      <td>1993-05-17</td>\n",
       "      <td>kusum.shresthacharya@fakeemail.com</td>\n",
       "      <td>9841249600</td>\n",
       "      <td>Google Search</td>\n",
       "      <td>app</td>\n",
       "      <td>2021-08-31 04:12:50.848789</td>\n",
       "    </tr>\n",
       "    <tr>\n",
       "      <th>289626</th>\n",
       "      <td>100289626</td>\n",
       "      <td>Prati Rashid</td>\n",
       "      <td>Female</td>\n",
       "      <td>2003-01-15</td>\n",
       "      <td>prati.rashid@fakeemail.com</td>\n",
       "      <td>9841648415</td>\n",
       "      <td>Facebook/Ads</td>\n",
       "      <td>browser</td>\n",
       "      <td>2021-08-31 18:42:19.418257</td>\n",
       "    </tr>\n",
       "  </tbody>\n",
       "</table>\n",
       "<p>289627 rows × 9 columns</p>\n",
       "</div>"
      ],
      "text/plain": [
       "        client_id                      name             gender        dob  \\\n",
       "0       100000000             Sneha Paswaan             Female 2004-10-31   \n",
       "1       100000001  Asisnero Bijukchhetimala               Male 2002-12-22   \n",
       "2       100000002          Czan duwal Hajam               Male 2003-10-27   \n",
       "3       100000003                Anish Gaha               Male 1987-12-06   \n",
       "4       100000004             Alina Prashad             Female 1999-11-09   \n",
       "...           ...                       ...                ...        ...   \n",
       "289622  100289622               Nisu Bhusal             Female 1998-09-29   \n",
       "289623  100289623            Riyane Bagdiya  Prefer not to say 1996-07-21   \n",
       "289624  100289624                 Sam Kasti               Male 2001-01-06   \n",
       "289625  100289625      Kusum Shresthacharya             Female 1993-05-17   \n",
       "289626  100289626              Prati Rashid             Female 2003-01-15   \n",
       "\n",
       "                                         email       phone        channel  \\\n",
       "0                  sneha.paswaan@fakeemail.com  9841733564   Facebook/Ads   \n",
       "1       asisnero.bijukchhetimala@fakeemail.com  9841481624   Facebook/Ads   \n",
       "2                     czan.duwal@fakeemail.com  9841129648          Other   \n",
       "3                     anish.gaha@fakeemail.com  9841972435  Google Search   \n",
       "4                  alina.prashad@fakeemail.com  9841955544   Facebook/Ads   \n",
       "...                                        ...         ...            ...   \n",
       "289622               nisu.bhusal@fakeemail.com  9841193643          Other   \n",
       "289623            riyane.bagdiya@fakeemail.com  9841685776  Google Search   \n",
       "289624                 sam.kasti@fakeemail.com  9841594962  Google Search   \n",
       "289625      kusum.shresthacharya@fakeemail.com  9841249600  Google Search   \n",
       "289626              prati.rashid@fakeemail.com  9841648415   Facebook/Ads   \n",
       "\n",
       "       first_contact                 created_at  \n",
       "0            browser 2020-09-01 07:02:35.699489  \n",
       "1            browser 2020-09-01 12:26:15.923573  \n",
       "2            browser 2020-09-01 03:34:09.346971  \n",
       "3            browser 2020-09-01 06:11:13.041308  \n",
       "4            browser 2020-09-01 10:35:03.629528  \n",
       "...              ...                        ...  \n",
       "289622       browser 2021-08-31 02:31:44.495466  \n",
       "289623       browser 2021-08-31 00:38:45.882240  \n",
       "289624           app 2021-08-31 21:22:54.489598  \n",
       "289625           app 2021-08-31 04:12:50.848789  \n",
       "289626       browser 2021-08-31 18:42:19.418257  \n",
       "\n",
       "[289627 rows x 9 columns]"
      ]
     },
     "execution_count": 3,
     "metadata": {},
     "output_type": "execute_result"
    }
   ],
   "source": [
    "df"
   ]
  },
  {
   "cell_type": "code",
   "execution_count": 4,
   "id": "07b83eb1-dfb2-446e-a606-150e166f1f0e",
   "metadata": {},
   "outputs": [
    {
     "data": {
      "text/plain": [
       "Male                 151276\n",
       "Female               107633\n",
       "Other                 20195\n",
       "Prefer not to say     10523\n",
       "Name: gender, dtype: int64"
      ]
     },
     "execution_count": 4,
     "metadata": {},
     "output_type": "execute_result"
    }
   ],
   "source": [
    "df.gender.value_counts()"
   ]
  },
  {
   "cell_type": "code",
   "execution_count": 5,
   "id": "2e550f36-dae7-447a-ba3e-021388397bf3",
   "metadata": {},
   "outputs": [
    {
     "data": {
      "text/plain": [
       "Facebook/Ads     111027\n",
       "Google Search     79494\n",
       "Other             50921\n",
       "Word of Mouth     48185\n",
       "Name: channel, dtype: int64"
      ]
     },
     "execution_count": 5,
     "metadata": {},
     "output_type": "execute_result"
    }
   ],
   "source": [
    "df.channel.value_counts()"
   ]
  },
  {
   "cell_type": "code",
   "execution_count": 6,
   "id": "16141953-a670-4308-99cd-1bce76ddb53d",
   "metadata": {},
   "outputs": [
    {
     "data": {
      "text/plain": [
       "browser    249296\n",
       "app         40331\n",
       "Name: first_contact, dtype: int64"
      ]
     },
     "execution_count": 6,
     "metadata": {},
     "output_type": "execute_result"
    }
   ],
   "source": [
    "df['first_contact'].value_counts()"
   ]
  },
  {
   "cell_type": "code",
   "execution_count": 7,
   "id": "1dbb26a9-753c-4079-b6f2-09e9e22ffc39",
   "metadata": {},
   "outputs": [
    {
     "data": {
      "text/plain": [
       "<AxesSubplot:xlabel='created_at'>"
      ]
     },
     "execution_count": 7,
     "metadata": {},
     "output_type": "execute_result"
    },
    {
     "data": {
      "image/png": "[encoded data removed]",
      "text/plain": [
       "<Figure size 432x288 with 1 Axes>"
      ]
     },
     "metadata": {
      "needs_background": "light"
     },
     "output_type": "display_data"
    }
   ],
   "source": [
    "df.resample('M', on='created_at')[['client_id']].count().plot()"
   ]
  },
  {
   "cell_type": "code",
   "execution_count": 8,
   "id": "79fc748d-ce8b-4c24-8e2b-b38577dfe76b",
   "metadata": {},
   "outputs": [
    {
     "data": {
      "text/plain": [
       "<AxesSubplot:xlabel='created_at'>"
      ]
     },
     "execution_count": 8,
     "metadata": {},
     "output_type": "execute_result"
    },
    {
     "data": {
      "image/png": "[encoded data removed]",
      "text/plain": [
       "<Figure size 432x288 with 1 Axes>"
      ]
     },
     "metadata": {
      "needs_background": "light"
     },
     "output_type": "display_data"
    }
   ],
   "source": [
    "df.resample('D', on='created_at')[['client_id']].count().plot()"
   ]
  },
  {
   "cell_type": "code",
   "execution_count": 9,
   "id": "f1655495-2f97-40a5-ab90-4e375d4424d5",
   "metadata": {},
   "outputs": [],
   "source": [
    "df['age'] = ((dt.today() - df.dob).dt.days)/365"
   ]
  },
  {
   "cell_type": "code",
   "execution_count": 10,
   "id": "79fe6998-79a0-41c7-b5b8-0711fda5889c",
   "metadata": {},
   "outputs": [],
   "source": [
    "df['age'] = df.age.map(int)"
   ]
  },
  {
   "cell_type": "code",
   "execution_count": 11,
   "id": "8d811e1c-5f04-4de2-bee9-63b4b63ad434",
   "metadata": {},
   "outputs": [
    {
     "data": {
      "text/plain": [
       "<AxesSubplot:ylabel='Frequency'>"
      ]
     },
     "execution_count": 11,
     "metadata": {},
     "output_type": "execute_result"
    },
    {
     "data": {
      "image/png": "[encoded data removed]",
      "text/plain": [
       "<Figure size 432x288 with 1 Axes>"
      ]
     },
     "metadata": {
      "needs_background": "light"
     },
     "output_type": "display_data"
    }
   ],
   "source": [
    "df.age.plot(kind='hist')"
   ]
  }
 ],
 "metadata": {
  "kernelspec": {
   "display_name": "Python 3 (ipykernel)",
   "language": "python",
   "name": "python3"
  },
  "language_info": {
   "codemirror_mode": {
    "name": "ipython",
    "version": 3
   },
   "file_extension": ".py",
   "mimetype": "text/x-python",
   "name": "python",
   "nbconvert_exporter": "python",
   "pygments_lexer": "ipython3",
   "version": "3.8.3"
  }
 },
 "nbformat": 4,
 "nbformat_minor": 5
}
