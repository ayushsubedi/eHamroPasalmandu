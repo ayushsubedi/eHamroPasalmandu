{
 "cells": [
  {
   "cell_type": "code",
   "execution_count": 1,
   "id": "83a91b39-2808-4d2f-bff0-9bdb2389454e",
   "metadata": {},
   "outputs": [],
   "source": [
    "import pandas as pd\n",
    "from datetime import datetime as dt"
   ]
  },
  {
   "cell_type": "code",
   "execution_count": 2,
   "id": "49ee099e-7981-41fb-a4f6-631ebf1373f7",
   "metadata": {},
   "outputs": [],
   "source": [
    "df = pd.read_csv('../datasets/clients.csv', parse_dates=['created_at', 'dob'])"
   ]
  },
  {
   "cell_type": "code",
   "execution_count": 3,
   "id": "2f27cc76-b5a2-426b-b4c7-b8f184b953f3",
   "metadata": {},
   "outputs": [
    {
     "data": {
      "text/html": [
       "<div>\n",
       "<style scoped>\n",
       "    .dataframe tbody tr th:only-of-type {\n",
       "        vertical-align: middle;\n",
       "    }\n",
       "\n",
       "    .dataframe tbody tr th {\n",
       "        vertical-align: top;\n",
       "    }\n",
       "\n",
       "    .dataframe thead th {\n",
       "        text-align: right;\n",
       "    }\n",
       "</style>\n",
       "<table border=\"1\" class=\"dataframe\">\n",
       "  <thead>\n",
       "    <tr style=\"text-align: right;\">\n",
       "      <th></th>\n",
       "      <th>client_id</th>\n",
       "      <th>name</th>\n",
       "      <th>gender</th>\n",
       "      <th>dob</th>\n",
       "      <th>email</th>\n",
       "      <th>phone</th>\n",
       "      <th>channel</th>\n",
       "      <th>first_contact</th>\n",
       "      <th>lat</th>\n",
       "      <th>lon</th>\n",
       "      <th>location_name</th>\n",
       "      <th>created_at</th>\n",
       "    </tr>\n",
       "  </thead>\n",
       "  <tbody>\n",
       "    <tr>\n",
       "      <th>0</th>\n",
       "      <td>100000000</td>\n",
       "      <td>Saroj vatsa Patera</td>\n",
       "      <td>Male</td>\n",
       "      <td>2004-01-20</td>\n",
       "      <td>saroj.vatsa@fakeemail.com</td>\n",
       "      <td>9841618454</td>\n",
       "      <td>Other</td>\n",
       "      <td>browser</td>\n",
       "      <td>27.7176</td>\n",
       "      <td>85.3284</td>\n",
       "      <td>Gairidhara Rd</td>\n",
       "      <td>2020-09-01 11:32:23.672943</td>\n",
       "    </tr>\n",
       "    <tr>\n",
       "      <th>1</th>\n",
       "      <td>100000001</td>\n",
       "      <td>Karuna Nirolla</td>\n",
       "      <td>Female</td>\n",
       "      <td>1997-12-03</td>\n",
       "      <td>karuna.nirolla@fakeemail.com</td>\n",
       "      <td>9841935484</td>\n",
       "      <td>Google Search</td>\n",
       "      <td>app</td>\n",
       "      <td>27.6921</td>\n",
       "      <td>85.3312</td>\n",
       "      <td>Bhakti Thapa Sadak</td>\n",
       "      <td>2020-09-01 14:28:42.013533</td>\n",
       "    </tr>\n",
       "    <tr>\n",
       "      <th>2</th>\n",
       "      <td>100000002</td>\n",
       "      <td>Sona Khayaju</td>\n",
       "      <td>Female</td>\n",
       "      <td>1999-07-10</td>\n",
       "      <td>sona.khayaju@fakeemail.com</td>\n",
       "      <td>9841585006</td>\n",
       "      <td>Facebook/Ads</td>\n",
       "      <td>app</td>\n",
       "      <td>27.6874</td>\n",
       "      <td>85.3319</td>\n",
       "      <td>'We' for Change</td>\n",
       "      <td>2020-09-01 15:33:16.952466</td>\n",
       "    </tr>\n",
       "    <tr>\n",
       "      <th>3</th>\n",
       "      <td>100000003</td>\n",
       "      <td>Paulo Mahaseth</td>\n",
       "      <td>Prefer not to say</td>\n",
       "      <td>2005-01-26</td>\n",
       "      <td>paulo.mahaseth@fakeemail.com</td>\n",
       "      <td>9841278643</td>\n",
       "      <td>Facebook/Ads</td>\n",
       "      <td>browser</td>\n",
       "      <td>27.6943</td>\n",
       "      <td>85.3062</td>\n",
       "      <td>Sahid Shukra Marg</td>\n",
       "      <td>2020-09-01 03:20:14.648833</td>\n",
       "    </tr>\n",
       "    <tr>\n",
       "      <th>4</th>\n",
       "      <td>100000004</td>\n",
       "      <td>Samita Mahajan</td>\n",
       "      <td>Female</td>\n",
       "      <td>2003-01-24</td>\n",
       "      <td>samita.mahajan@fakeemail.com</td>\n",
       "      <td>9841267804</td>\n",
       "      <td>Google Search</td>\n",
       "      <td>browser</td>\n",
       "      <td>27.7023</td>\n",
       "      <td>85.3099</td>\n",
       "      <td>Pako Sadak</td>\n",
       "      <td>2020-09-01 14:41:47.335170</td>\n",
       "    </tr>\n",
       "    <tr>\n",
       "      <th>...</th>\n",
       "      <td>...</td>\n",
       "      <td>...</td>\n",
       "      <td>...</td>\n",
       "      <td>...</td>\n",
       "      <td>...</td>\n",
       "      <td>...</td>\n",
       "      <td>...</td>\n",
       "      <td>...</td>\n",
       "      <td>...</td>\n",
       "      <td>...</td>\n",
       "      <td>...</td>\n",
       "      <td>...</td>\n",
       "    </tr>\n",
       "    <tr>\n",
       "      <th>21789</th>\n",
       "      <td>100021789</td>\n",
       "      <td>Chhiring Pokharal</td>\n",
       "      <td>Male</td>\n",
       "      <td>1987-12-03</td>\n",
       "      <td>chhiring.pokharal@fakeemail.com</td>\n",
       "      <td>9841013843</td>\n",
       "      <td>Other</td>\n",
       "      <td>browser</td>\n",
       "      <td>27.7065</td>\n",
       "      <td>85.3124</td>\n",
       "      <td>Masa Galli Kathmandu 44600 Nepal</td>\n",
       "      <td>2021-08-31 12:53:42.017632</td>\n",
       "    </tr>\n",
       "    <tr>\n",
       "      <th>21790</th>\n",
       "      <td>100021790</td>\n",
       "      <td>Suman Lingden</td>\n",
       "      <td>Other</td>\n",
       "      <td>2001-03-16</td>\n",
       "      <td>suman.lingden@fakeemail.com</td>\n",
       "      <td>9841172670</td>\n",
       "      <td>Word of Mouth</td>\n",
       "      <td>browser</td>\n",
       "      <td>27.7126</td>\n",
       "      <td>85.3176</td>\n",
       "      <td>Coffeepasal</td>\n",
       "      <td>2021-08-31 14:47:51.042093</td>\n",
       "    </tr>\n",
       "    <tr>\n",
       "      <th>21791</th>\n",
       "      <td>100021791</td>\n",
       "      <td>Pramod Gachhadar</td>\n",
       "      <td>Male</td>\n",
       "      <td>2005-09-14</td>\n",
       "      <td>pramod.gachhadar@fakeemail.com</td>\n",
       "      <td>9841912537</td>\n",
       "      <td>Word of Mouth</td>\n",
       "      <td>browser</td>\n",
       "      <td>27.7160</td>\n",
       "      <td>85.3131</td>\n",
       "      <td>Hotel Peace N Park</td>\n",
       "      <td>2021-08-31 08:31:09.518596</td>\n",
       "    </tr>\n",
       "    <tr>\n",
       "      <th>21792</th>\n",
       "      <td>100021792</td>\n",
       "      <td>Ansu Shahu</td>\n",
       "      <td>Female</td>\n",
       "      <td>2006-06-24</td>\n",
       "      <td>ansu.shahu@fakeemail.com</td>\n",
       "      <td>9841697135</td>\n",
       "      <td>Word of Mouth</td>\n",
       "      <td>browser</td>\n",
       "      <td>27.7118</td>\n",
       "      <td>85.3077</td>\n",
       "      <td>Yapikhya Marg</td>\n",
       "      <td>2021-08-31 19:38:52.098266</td>\n",
       "    </tr>\n",
       "    <tr>\n",
       "      <th>21793</th>\n",
       "      <td>100021793</td>\n",
       "      <td>Palisha Tated</td>\n",
       "      <td>Female</td>\n",
       "      <td>1997-09-12</td>\n",
       "      <td>palisha.tated@fakeemail.com</td>\n",
       "      <td>9841792032</td>\n",
       "      <td>Facebook/Ads</td>\n",
       "      <td>browser</td>\n",
       "      <td>27.7100</td>\n",
       "      <td>85.3104</td>\n",
       "      <td>Swanchhapu Marg</td>\n",
       "      <td>2021-08-31 19:22:44.687393</td>\n",
       "    </tr>\n",
       "  </tbody>\n",
       "</table>\n",
       "<p>21794 rows × 12 columns</p>\n",
       "</div>"
      ],
      "text/plain": [
       "       client_id                name             gender        dob  \\\n",
       "0      100000000  Saroj vatsa Patera               Male 2004-01-20   \n",
       "1      100000001      Karuna Nirolla             Female 1997-12-03   \n",
       "2      100000002        Sona Khayaju             Female 1999-07-10   \n",
       "3      100000003      Paulo Mahaseth  Prefer not to say 2005-01-26   \n",
       "4      100000004      Samita Mahajan             Female 2003-01-24   \n",
       "...          ...                 ...                ...        ...   \n",
       "21789  100021789   Chhiring Pokharal               Male 1987-12-03   \n",
       "21790  100021790       Suman Lingden              Other 2001-03-16   \n",
       "21791  100021791    Pramod Gachhadar               Male 2005-09-14   \n",
       "21792  100021792          Ansu Shahu             Female 2006-06-24   \n",
       "21793  100021793       Palisha Tated             Female 1997-09-12   \n",
       "\n",
       "                                 email       phone        channel  \\\n",
       "0            saroj.vatsa@fakeemail.com  9841618454          Other   \n",
       "1         karuna.nirolla@fakeemail.com  9841935484  Google Search   \n",
       "2           sona.khayaju@fakeemail.com  9841585006   Facebook/Ads   \n",
       "3         paulo.mahaseth@fakeemail.com  9841278643   Facebook/Ads   \n",
       "4         samita.mahajan@fakeemail.com  9841267804  Google Search   \n",
       "...                                ...         ...            ...   \n",
       "21789  chhiring.pokharal@fakeemail.com  9841013843          Other   \n",
       "21790      suman.lingden@fakeemail.com  9841172670  Word of Mouth   \n",
       "21791   pramod.gachhadar@fakeemail.com  9841912537  Word of Mouth   \n",
       "21792         ansu.shahu@fakeemail.com  9841697135  Word of Mouth   \n",
       "21793      palisha.tated@fakeemail.com  9841792032   Facebook/Ads   \n",
       "\n",
       "      first_contact      lat      lon                     location_name  \\\n",
       "0           browser  27.7176  85.3284                     Gairidhara Rd   \n",
       "1               app  27.6921  85.3312                Bhakti Thapa Sadak   \n",
       "2               app  27.6874  85.3319                   'We' for Change   \n",
       "3           browser  27.6943  85.3062                 Sahid Shukra Marg   \n",
       "4           browser  27.7023  85.3099                        Pako Sadak   \n",
       "...             ...      ...      ...                               ...   \n",
       "21789       browser  27.7065  85.3124  Masa Galli Kathmandu 44600 Nepal   \n",
       "21790       browser  27.7126  85.3176                       Coffeepasal   \n",
       "21791       browser  27.7160  85.3131                Hotel Peace N Park   \n",
       "21792       browser  27.7118  85.3077                     Yapikhya Marg   \n",
       "21793       browser  27.7100  85.3104                   Swanchhapu Marg   \n",
       "\n",
       "                      created_at  \n",
       "0     2020-09-01 11:32:23.672943  \n",
       "1     2020-09-01 14:28:42.013533  \n",
       "2     2020-09-01 15:33:16.952466  \n",
       "3     2020-09-01 03:20:14.648833  \n",
       "4     2020-09-01 14:41:47.335170  \n",
       "...                          ...  \n",
       "21789 2021-08-31 12:53:42.017632  \n",
       "21790 2021-08-31 14:47:51.042093  \n",
       "21791 2021-08-31 08:31:09.518596  \n",
       "21792 2021-08-31 19:38:52.098266  \n",
       "21793 2021-08-31 19:22:44.687393  \n",
       "\n",
       "[21794 rows x 12 columns]"
      ]
     },
     "execution_count": 3,
     "metadata": {},
     "output_type": "execute_result"
    }
   ],
   "source": [
    "df"
   ]
  },
  {
   "cell_type": "code",
   "execution_count": 4,
   "id": "07b83eb1-dfb2-446e-a606-150e166f1f0e",
   "metadata": {},
   "outputs": [
    {
     "data": {
      "text/plain": [
       "Male                 11380\n",
       "Female                8148\n",
       "Other                 1496\n",
       "Prefer not to say      770\n",
       "Name: gender, dtype: int64"
      ]
     },
     "execution_count": 4,
     "metadata": {},
     "output_type": "execute_result"
    }
   ],
   "source": [
    "df.gender.value_counts()"
   ]
  },
  {
   "cell_type": "code",
   "execution_count": 5,
   "id": "2e550f36-dae7-447a-ba3e-021388397bf3",
   "metadata": {},
   "outputs": [
    {
     "data": {
      "text/plain": [
       "Facebook/Ads     8279\n",
       "Google Search    5990\n",
       "Other            3898\n",
       "Word of Mouth    3627\n",
       "Name: channel, dtype: int64"
      ]
     },
     "execution_count": 5,
     "metadata": {},
     "output_type": "execute_result"
    }
   ],
   "source": [
    "df.channel.value_counts()"
   ]
  },
  {
   "cell_type": "code",
   "execution_count": 6,
   "id": "16141953-a670-4308-99cd-1bce76ddb53d",
   "metadata": {},
   "outputs": [
    {
     "data": {
      "text/plain": [
       "browser    18707\n",
       "app         3087\n",
       "Name: first_contact, dtype: int64"
      ]
     },
     "execution_count": 6,
     "metadata": {},
     "output_type": "execute_result"
    }
   ],
   "source": [
    "df['first_contact'].value_counts()"
   ]
  },
  {
   "cell_type": "code",
   "execution_count": 7,
   "id": "1dbb26a9-753c-4079-b6f2-09e9e22ffc39",
   "metadata": {},
   "outputs": [
    {
     "data": {
      "text/plain": [
       "<AxesSubplot:xlabel='created_at'>"
      ]
     },
     "execution_count": 7,
     "metadata": {},
     "output_type": "execute_result"
    },
    {
     "data": {
      "image/png": "[encoded data removed]",
      "text/plain": [
       "<Figure size 432x288 with 1 Axes>"
      ]
     },
     "metadata": {
      "needs_background": "light"
     },
     "output_type": "display_data"
    }
   ],
   "source": [
    "df.resample('M', on='created_at')[['client_id']].count().plot()"
   ]
  },
  {
   "cell_type": "code",
   "execution_count": 8,
   "id": "79fc748d-ce8b-4c24-8e2b-b38577dfe76b",
   "metadata": {},
   "outputs": [
    {
     "data": {
      "text/plain": [
       "<AxesSubplot:xlabel='created_at'>"
      ]
     },
     "execution_count": 8,
     "metadata": {},
     "output_type": "execute_result"
    },
    {
     "data": {
      "image/png": "[encoded data removed]",
      "text/plain": [
       "<Figure size 432x288 with 1 Axes>"
      ]
     },
     "metadata": {
      "needs_background": "light"
     },
     "output_type": "display_data"
    }
   ],
   "source": [
    "df.resample('D', on='created_at')[['client_id']].count().plot()"
   ]
  },
  {
   "cell_type": "code",
   "execution_count": 9,
   "id": "f1655495-2f97-40a5-ab90-4e375d4424d5",
   "metadata": {},
   "outputs": [],
   "source": [
    "df['age'] = ((dt.today() - df.dob).dt.days)/365"
   ]
  },
  {
   "cell_type": "code",
   "execution_count": 10,
   "id": "79fe6998-79a0-41c7-b5b8-0711fda5889c",
   "metadata": {},
   "outputs": [],
   "source": [
    "df['age'] = df.age.map(int)"
   ]
  },
  {
   "cell_type": "code",
   "execution_count": 11,
   "id": "8d811e1c-5f04-4de2-bee9-63b4b63ad434",
   "metadata": {},
   "outputs": [
    {
     "data": {
      "text/plain": [
       "<AxesSubplot:ylabel='Frequency'>"
      ]
     },
     "execution_count": 11,
     "metadata": {},
     "output_type": "execute_result"
    },
    {
     "data": {
      "image/png": "[encoded data removed]",
      "text/plain": [
       "<Figure size 432x288 with 1 Axes>"
      ]
     },
     "metadata": {
      "needs_background": "light"
     },
     "output_type": "display_data"
    }
   ],
   "source": [
    "df.age.plot(kind='hist')"
   ]
  }
 ],
 "metadata": {
  "kernelspec": {
   "display_name": "Python 3 (ipykernel)",
   "language": "python",
   "name": "python3"
  },
  "language_info": {
   "codemirror_mode": {
    "name": "ipython",
    "version": 3
   },
   "file_extension": ".py",
   "mimetype": "text/x-python",
   "name": "python",
   "nbconvert_exporter": "python",
   "pygments_lexer": "ipython3",
   "version": "3.8.3"
  }
 },
 "nbformat": 4,
 "nbformat_minor": 5
}
