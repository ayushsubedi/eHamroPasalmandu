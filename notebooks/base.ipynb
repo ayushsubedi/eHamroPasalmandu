{
 "cells": [
  {
   "cell_type": "code",
   "execution_count": 1,
   "id": "4f41b550-6454-4c50-a94c-c348d80738e6",
   "metadata": {},
   "outputs": [],
   "source": [
    "from faker import Faker\n",
    "import pandas as pd\n",
    "import random"
   ]
  },
  {
   "cell_type": "code",
   "execution_count": 2,
   "id": "d929301a-dca8-4798-bf31-b629cf18ac6b",
   "metadata": {},
   "outputs": [],
   "source": [
    "df = pd.read_csv('../datasets/nepali_first_name_gender.csv')"
   ]
  },
  {
   "cell_type": "code",
   "execution_count": 3,
   "id": "0ccc02f2-1215-45a9-b0ea-aa8cc0defb18",
   "metadata": {},
   "outputs": [],
   "source": [
    "filename = '../datasets/lastnames.txt'\n",
    "with open(filename) as f:\n",
    "    content = f.readlines()\n",
    "content = [x.strip()[:-1] for x in content] "
   ]
  },
  {
   "cell_type": "code",
   "execution_count": 4,
   "id": "3b404dea-d1f2-41a4-a11c-5963280879e1",
   "metadata": {},
   "outputs": [],
   "source": [
    "last_names = [x.capitalize() for x in content] "
   ]
  },
  {
   "cell_type": "code",
   "execution_count": 5,
   "id": "25026415-c235-467a-b062-f18d5c47b4a6",
   "metadata": {},
   "outputs": [],
   "source": [
    "first_name_male = [x.capitalize() for x in list(df[df.gender=='M'].first_name)] \n",
    "first_name_female = [x.capitalize() for x in list(df[df.gender=='F'].first_name)]"
   ]
  },
  {
   "cell_type": "code",
   "execution_count": 6,
   "id": "589fe66e-2748-4c92-afde-6767535a1f9f",
   "metadata": {},
   "outputs": [
    {
     "data": {
      "text/plain": [
       "['Nirmal Hardware',\n",
       " 'Nitish Bishwokarma',\n",
       " 'Nirajan Damase',\n",
       " 'Yash Ranphaili',\n",
       " 'Samir Bahety',\n",
       " 'Bishal Phaiju',\n",
       " 'Prasad Varal',\n",
       " 'Binod Kar',\n",
       " 'Ayus Parijuli',\n",
       " 'Sarbodaya Lingthep']"
      ]
     },
     "execution_count": 6,
     "metadata": {},
     "output_type": "execute_result"
    }
   ],
   "source": [
    "[random.choice(first_name_male) + \" \" + random.choice(last_names) for x in range(10)]"
   ]
  },
  {
   "cell_type": "code",
   "execution_count": 7,
   "id": "229ee763-7e04-46c4-82f4-acf04f7ae5b0",
   "metadata": {},
   "outputs": [],
   "source": [
    "total_customer = 100000\n",
    "male_percent = 58\n",
    "\n",
    "male = {'Name': [random.choice(first_name_male) + \" \" + random.choice(last_names) for x in range(int(total_customer*male_percent/100))]}\n",
    "female = {'Name': [random.choice(first_name_female) + \" \" + random.choice(last_names) for x in range(int(total_customer*(100-male_percent)/100))]}"
   ]
  },
  {
   "cell_type": "code",
   "execution_count": 8,
   "id": "7e6c8f8c-bb15-4429-af03-9aabe0a79727",
   "metadata": {},
   "outputs": [],
   "source": [
    "df_male = pd.DataFrame(data=male)\n",
    "df_male['Gender'] = 'Male'\n",
    "df_female = pd.DataFrame(data=female)\n",
    "df_female['Gender'] = 'Female'"
   ]
  },
  {
   "cell_type": "code",
   "execution_count": 9,
   "id": "274f2bf7-c71e-428d-b709-d4db612f1dd5",
   "metadata": {},
   "outputs": [],
   "source": [
    "df = df_male.append(df_female)"
   ]
  },
  {
   "cell_type": "code",
   "execution_count": 10,
   "id": "76624887-d18d-4707-99c4-bf1f2e2c46fe",
   "metadata": {},
   "outputs": [],
   "source": [
    "df.loc[df.sample(frac=.04).index,\n",
    "    'Gender'\n",
    "] = 'Other'\n",
    "\n",
    "df.loc[df.sample(frac=.02).index,\n",
    "    'Gender'\n",
    "] = 'Prefer not to say'"
   ]
  },
  {
   "cell_type": "code",
   "execution_count": 11,
   "id": "1fbac8c9-255d-40ac-b058-4db918f986d8",
   "metadata": {},
   "outputs": [
    {
     "data": {
      "text/plain": [
       "Male                 52224\n",
       "Female               37146\n",
       "Other                 6979\n",
       "Prefer not to say     3651\n",
       "Name: Gender, dtype: int64"
      ]
     },
     "execution_count": 11,
     "metadata": {},
     "output_type": "execute_result"
    }
   ],
   "source": [
    "df.Gender.value_counts()"
   ]
  },
  {
   "cell_type": "code",
   "execution_count": 15,
   "id": "17b5633d-258f-4bac-aa9c-ee1adb72092b",
   "metadata": {},
   "outputs": [],
   "source": [
    "def email(name):\n",
    "    name = name.lower()\n",
    "    return (name.split(' ')[0]+'.'+name.split(' ')[1]+'@fakeemail.com')"
   ]
  },
  {
   "cell_type": "code",
   "execution_count": 16,
   "id": "b558b0fa-01c1-418a-b105-7665a97ec9f2",
   "metadata": {},
   "outputs": [
    {
     "data": {
      "text/plain": [
       "0         susshanzt.parui@fakeemail.com\n",
       "1         shamar.phabangi@fakeemail.com\n",
       "2            sushil.thapa@fakeemail.com\n",
       "3        chhiring.dhamala@fakeemail.com\n",
       "4        asisnero.shrarma@fakeemail.com\n",
       "                      ...              \n",
       "41995       sneha.mahajan@fakeemail.com\n",
       "41996     simrika.paikara@fakeemail.com\n",
       "41997        nisu.uapreti@fakeemail.com\n",
       "41998     sunita.bakhadyo@fakeemail.com\n",
       "41999     yashoda.magarni@fakeemail.com\n",
       "Name: Name, Length: 100000, dtype: object"
      ]
     },
     "execution_count": 16,
     "metadata": {},
     "output_type": "execute_result"
    }
   ],
   "source": [
    "df.Name.apply(email)"
   ]
  },
  {
   "cell_type": "code",
   "execution_count": null,
   "id": "ceb02312-1499-460b-ab6f-8d667ac5c562",
   "metadata": {},
   "outputs": [],
   "source": []
  }
 ],
 "metadata": {
  "kernelspec": {
   "display_name": "Python 3 (ipykernel)",
   "language": "python",
   "name": "python3"
  },
  "language_info": {
   "codemirror_mode": {
    "name": "ipython",
    "version": 3
   },
   "file_extension": ".py",
   "mimetype": "text/x-python",
   "name": "python",
   "nbconvert_exporter": "python",
   "pygments_lexer": "ipython3",
   "version": "3.8.3"
  }
 },
 "nbformat": 4,
 "nbformat_minor": 5
}
