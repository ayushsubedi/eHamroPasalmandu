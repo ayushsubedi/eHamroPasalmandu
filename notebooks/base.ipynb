{
 "cells": [
  {
   "cell_type": "code",
   "execution_count": 1,
   "id": "4f41b550-6454-4c50-a94c-c348d80738e6",
   "metadata": {},
   "outputs": [],
   "source": [
    "from faker import Faker\n",
    "import pandas as pd\n",
    "import random"
   ]
  },
  {
   "cell_type": "code",
   "execution_count": 2,
   "id": "d929301a-dca8-4798-bf31-b629cf18ac6b",
   "metadata": {},
   "outputs": [],
   "source": [
    "df = pd.read_csv('../datasets/nepali_first_name_gender.csv')"
   ]
  },
  {
   "cell_type": "code",
   "execution_count": 3,
   "id": "0ccc02f2-1215-45a9-b0ea-aa8cc0defb18",
   "metadata": {},
   "outputs": [],
   "source": [
    "filename = '../datasets/lastnames.txt'\n",
    "with open(filename) as f:\n",
    "    content = f.readlines()\n",
    "content = [x.strip()[:-1] for x in content] "
   ]
  },
  {
   "cell_type": "code",
   "execution_count": 4,
   "id": "3b404dea-d1f2-41a4-a11c-5963280879e1",
   "metadata": {},
   "outputs": [],
   "source": [
    "last_names = [x.capitalize() for x in content] "
   ]
  },
  {
   "cell_type": "code",
   "execution_count": 5,
   "id": "25026415-c235-467a-b062-f18d5c47b4a6",
   "metadata": {},
   "outputs": [],
   "source": [
    "first_name_male = [x.capitalize() for x in list(df[df.gender=='M'].first_name)] \n",
    "first_name_female = [x.capitalize() for x in list(df[df.gender=='F'].first_name)]"
   ]
  },
  {
   "cell_type": "code",
   "execution_count": 6,
   "id": "589fe66e-2748-4c92-afde-6767535a1f9f",
   "metadata": {},
   "outputs": [
    {
     "data": {
      "text/plain": [
       "['Peter Pahadi',\n",
       " 'Rohit Maga',\n",
       " 'Yash Poudel',\n",
       " 'Aditya Mahaseth',\n",
       " 'Czan duwal Gurun',\n",
       " 'Suman Ghalay',\n",
       " 'Dipak Tamauli',\n",
       " 'Jenis Thakali',\n",
       " 'Yuki Adhirki',\n",
       " 'Satish Raman']"
      ]
     },
     "execution_count": 6,
     "metadata": {},
     "output_type": "execute_result"
    }
   ],
   "source": [
    "[random.choice(first_name_male) + \" \" + random.choice(last_names) for x in range(10)]"
   ]
  },
  {
   "cell_type": "code",
   "execution_count": 7,
   "id": "229ee763-7e04-46c4-82f4-acf04f7ae5b0",
   "metadata": {},
   "outputs": [],
   "source": [
    "total_customer = 100000\n",
    "male_percent = 58\n",
    "\n",
    "male = {'Customer Name': [random.choice(first_name_male) + \" \" + random.choice(last_names) for x in range(int(total_customer*male_percent/100))]}\n",
    "female = {'Customer Name': [random.choice(first_name_female) + \" \" + random.choice(last_names) for x in range(int(total_customer*(100-male_percent)/100))]}"
   ]
  },
  {
   "cell_type": "code",
   "execution_count": 8,
   "id": "7e6c8f8c-bb15-4429-af03-9aabe0a79727",
   "metadata": {},
   "outputs": [],
   "source": [
    "df_male = pd.DataFrame(data=male)\n",
    "df_male['Gender'] = 'Male'\n",
    "df_female = pd.DataFrame(data=female)\n",
    "df_female['Gender'] = 'Female'"
   ]
  },
  {
   "cell_type": "code",
   "execution_count": 9,
   "id": "274f2bf7-c71e-428d-b709-d4db612f1dd5",
   "metadata": {},
   "outputs": [],
   "source": [
    "df = df_male.append(df_female)"
   ]
  },
  {
   "cell_type": "code",
   "execution_count": 13,
   "id": "0f04abec-9bda-4304-b241-ee101283077a",
   "metadata": {},
   "outputs": [],
   "source": [
    "df.reset_index(drop=True, inplace=True)"
   ]
  },
  {
   "cell_type": "code",
   "execution_count": 17,
   "id": "21908e44-879f-4f24-8caa-2b0e74c4fc0d",
   "metadata": {},
   "outputs": [],
   "source": [
    "df['Customer ID'] = df.index+100000"
   ]
  },
  {
   "cell_type": "code",
   "execution_count": 20,
   "id": "8f437f6a-5d31-4cb3-b7f0-5d7bb6503745",
   "metadata": {},
   "outputs": [
    {
     "data": {
      "text/html": [
       "<div>\n",
       "<style scoped>\n",
       "    .dataframe tbody tr th:only-of-type {\n",
       "        vertical-align: middle;\n",
       "    }\n",
       "\n",
       "    .dataframe tbody tr th {\n",
       "        vertical-align: top;\n",
       "    }\n",
       "\n",
       "    .dataframe thead th {\n",
       "        text-align: right;\n",
       "    }\n",
       "</style>\n",
       "<table border=\"1\" class=\"dataframe\">\n",
       "  <thead>\n",
       "    <tr style=\"text-align: right;\">\n",
       "      <th></th>\n",
       "      <th>Customer ID</th>\n",
       "      <th>Customer Name</th>\n",
       "      <th>Gender</th>\n",
       "    </tr>\n",
       "  </thead>\n",
       "  <tbody>\n",
       "    <tr>\n",
       "      <th>0</th>\n",
       "      <td>100000</td>\n",
       "      <td>Kamal Pathak</td>\n",
       "      <td>Male</td>\n",
       "    </tr>\n",
       "    <tr>\n",
       "      <th>1</th>\n",
       "      <td>100001</td>\n",
       "      <td>Kush Chaudary</td>\n",
       "      <td>Male</td>\n",
       "    </tr>\n",
       "    <tr>\n",
       "      <th>2</th>\n",
       "      <td>100002</td>\n",
       "      <td>Pashupati Kaudal</td>\n",
       "      <td>Male</td>\n",
       "    </tr>\n",
       "    <tr>\n",
       "      <th>3</th>\n",
       "      <td>100003</td>\n",
       "      <td>Kamal Vhetuwal</td>\n",
       "      <td>Male</td>\n",
       "    </tr>\n",
       "    <tr>\n",
       "      <th>4</th>\n",
       "      <td>100004</td>\n",
       "      <td>Suman Panma</td>\n",
       "      <td>Male</td>\n",
       "    </tr>\n",
       "    <tr>\n",
       "      <th>...</th>\n",
       "      <td>...</td>\n",
       "      <td>...</td>\n",
       "      <td>...</td>\n",
       "    </tr>\n",
       "    <tr>\n",
       "      <th>99995</th>\n",
       "      <td>199995</td>\n",
       "      <td>Alina Shahshankar</td>\n",
       "      <td>Female</td>\n",
       "    </tr>\n",
       "    <tr>\n",
       "      <th>99996</th>\n",
       "      <td>199996</td>\n",
       "      <td>Mahima Bhattacharya</td>\n",
       "      <td>Female</td>\n",
       "    </tr>\n",
       "    <tr>\n",
       "      <th>99997</th>\n",
       "      <td>199997</td>\n",
       "      <td>Reeya Sarwagai</td>\n",
       "      <td>Female</td>\n",
       "    </tr>\n",
       "    <tr>\n",
       "      <th>99998</th>\n",
       "      <td>199998</td>\n",
       "      <td>Sunita Maka</td>\n",
       "      <td>Female</td>\n",
       "    </tr>\n",
       "    <tr>\n",
       "      <th>99999</th>\n",
       "      <td>199999</td>\n",
       "      <td>Manu Khusal</td>\n",
       "      <td>Female</td>\n",
       "    </tr>\n",
       "  </tbody>\n",
       "</table>\n",
       "<p>100000 rows × 3 columns</p>\n",
       "</div>"
      ],
      "text/plain": [
       "       Customer ID        Customer Name  Gender\n",
       "0           100000         Kamal Pathak    Male\n",
       "1           100001        Kush Chaudary    Male\n",
       "2           100002     Pashupati Kaudal    Male\n",
       "3           100003       Kamal Vhetuwal    Male\n",
       "4           100004          Suman Panma    Male\n",
       "...            ...                  ...     ...\n",
       "99995       199995    Alina Shahshankar  Female\n",
       "99996       199996  Mahima Bhattacharya  Female\n",
       "99997       199997       Reeya Sarwagai  Female\n",
       "99998       199998          Sunita Maka  Female\n",
       "99999       199999          Manu Khusal  Female\n",
       "\n",
       "[100000 rows x 3 columns]"
      ]
     },
     "execution_count": 20,
     "metadata": {},
     "output_type": "execute_result"
    }
   ],
   "source": [
    "df[['Customer ID', 'Customer Name', 'Gender']]"
   ]
  },
  {
   "cell_type": "code",
   "execution_count": null,
   "id": "7ae58472-4d9e-46d7-9c16-f6a7e51832c3",
   "metadata": {},
   "outputs": [],
   "source": []
  }
 ],
 "metadata": {
  "kernelspec": {
   "display_name": "Python 3 (ipykernel)",
   "language": "python",
   "name": "python3"
  },
  "language_info": {
   "codemirror_mode": {
    "name": "ipython",
    "version": 3
   },
   "file_extension": ".py",
   "mimetype": "text/x-python",
   "name": "python",
   "nbconvert_exporter": "python",
   "pygments_lexer": "ipython3",
   "version": "3.8.3"
  }
 },
 "nbformat": 4,
 "nbformat_minor": 5
}
