{
 "cells": [
  {
   "cell_type": "code",
   "execution_count": 1,
   "id": "4f41b550-6454-4c50-a94c-c348d80738e6",
   "metadata": {},
   "outputs": [],
   "source": [
    "from faker import Faker\n",
    "import pandas as pd"
   ]
  },
  {
   "cell_type": "code",
   "execution_count": 2,
   "id": "d929301a-dca8-4798-bf31-b629cf18ac6b",
   "metadata": {},
   "outputs": [],
   "source": [
    "df = pd.read_csv('../datasets/nepali_first_name_gender.csv')"
   ]
  },
  {
   "cell_type": "code",
   "execution_count": 4,
   "id": "0ccc02f2-1215-45a9-b0ea-aa8cc0defb18",
   "metadata": {},
   "outputs": [],
   "source": [
    "filename = '../datasets/lastnames.txt'\n",
    "with open(filename) as f:\n",
    "    content = f.readlines()\n",
    "content = [x.strip()[:-1] for x in content] "
   ]
  },
  {
   "cell_type": "code",
   "execution_count": 5,
   "id": "3b404dea-d1f2-41a4-a11c-5963280879e1",
   "metadata": {},
   "outputs": [],
   "source": [
    "last_names = [x.capitalize() for x in content] "
   ]
  },
  {
   "cell_type": "code",
   "execution_count": 6,
   "id": "25026415-c235-467a-b062-f18d5c47b4a6",
   "metadata": {},
   "outputs": [],
   "source": [
    "first_name_male = [x.capitalize() for x in list(df[df.gender=='M'].first_name)] \n",
    "first_name_female = [x.capitalize() for x in list(df[df.gender=='F'].first_name)]"
   ]
  }
 ],
 "metadata": {
  "kernelspec": {
   "display_name": "Python 3 (ipykernel)",
   "language": "python",
   "name": "python3"
  },
  "language_info": {
   "codemirror_mode": {
    "name": "ipython",
    "version": 3
   },
   "file_extension": ".py",
   "mimetype": "text/x-python",
   "name": "python",
   "nbconvert_exporter": "python",
   "pygments_lexer": "ipython3",
   "version": "3.8.3"
  }
 },
 "nbformat": 4,
 "nbformat_minor": 5
}
