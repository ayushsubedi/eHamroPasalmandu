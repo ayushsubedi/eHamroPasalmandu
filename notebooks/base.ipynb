{
 "cells": [
  {
   "cell_type": "code",
   "execution_count": 1,
   "id": "4f41b550-6454-4c50-a94c-c348d80738e6",
   "metadata": {},
   "outputs": [],
   "source": [
    "from faker import Faker\n",
    "import pandas as pd\n",
    "import random"
   ]
  },
  {
   "cell_type": "code",
   "execution_count": 2,
   "id": "d929301a-dca8-4798-bf31-b629cf18ac6b",
   "metadata": {},
   "outputs": [],
   "source": [
    "df = pd.read_csv('../datasets/nepali_first_name_gender.csv')"
   ]
  },
  {
   "cell_type": "code",
   "execution_count": 3,
   "id": "0ccc02f2-1215-45a9-b0ea-aa8cc0defb18",
   "metadata": {},
   "outputs": [],
   "source": [
    "filename = '../datasets/lastnames.txt'\n",
    "with open(filename) as f:\n",
    "    content = f.readlines()\n",
    "content = [x.strip()[:-1] for x in content] "
   ]
  },
  {
   "cell_type": "code",
   "execution_count": 4,
   "id": "3b404dea-d1f2-41a4-a11c-5963280879e1",
   "metadata": {},
   "outputs": [],
   "source": [
    "last_names = [x.capitalize() for x in content] "
   ]
  },
  {
   "cell_type": "code",
   "execution_count": 5,
   "id": "25026415-c235-467a-b062-f18d5c47b4a6",
   "metadata": {},
   "outputs": [],
   "source": [
    "first_name_male = [x.capitalize() for x in list(df[df.gender=='M'].first_name)] \n",
    "first_name_female = [x.capitalize() for x in list(df[df.gender=='F'].first_name)]"
   ]
  },
  {
   "cell_type": "code",
   "execution_count": 6,
   "id": "589fe66e-2748-4c92-afde-6767535a1f9f",
   "metadata": {},
   "outputs": [
    {
     "data": {
      "text/plain": [
       "['Nirmal Hardware',\n",
       " 'Nitish Bishwokarma',\n",
       " 'Nirajan Damase',\n",
       " 'Yash Ranphaili',\n",
       " 'Samir Bahety',\n",
       " 'Bishal Phaiju',\n",
       " 'Prasad Varal',\n",
       " 'Binod Kar',\n",
       " 'Ayus Parijuli',\n",
       " 'Sarbodaya Lingthep']"
      ]
     },
     "execution_count": 6,
     "metadata": {},
     "output_type": "execute_result"
    }
   ],
   "source": [
    "[random.choice(first_name_male) + \" \" + random.choice(last_names) for x in range(10)]"
   ]
  },
  {
   "cell_type": "code",
   "execution_count": 7,
   "id": "229ee763-7e04-46c4-82f4-acf04f7ae5b0",
   "metadata": {},
   "outputs": [],
   "source": [
    "total_customer = 100000\n",
    "male_percent = 58\n",
    "\n",
    "male = {'Name': [random.choice(first_name_male) + \" \" + random.choice(last_names) for x in range(int(total_customer*male_percent/100))]}\n",
    "female = {'Name': [random.choice(first_name_female) + \" \" + random.choice(last_names) for x in range(int(total_customer*(100-male_percent)/100))]}"
   ]
  },
  {
   "cell_type": "code",
   "execution_count": 8,
   "id": "7e6c8f8c-bb15-4429-af03-9aabe0a79727",
   "metadata": {},
   "outputs": [],
   "source": [
    "df_male = pd.DataFrame(data=male)\n",
    "df_male['Gender'] = 'Male'\n",
    "df_female = pd.DataFrame(data=female)\n",
    "df_female['Gender'] = 'Female'"
   ]
  },
  {
   "cell_type": "code",
   "execution_count": 9,
   "id": "274f2bf7-c71e-428d-b709-d4db612f1dd5",
   "metadata": {},
   "outputs": [],
   "source": [
    "df = df_male.append(df_female)"
   ]
  },
  {
   "cell_type": "code",
   "execution_count": 10,
   "id": "76624887-d18d-4707-99c4-bf1f2e2c46fe",
   "metadata": {},
   "outputs": [],
   "source": [
    "df.loc[df.sample(frac=.04).index,\n",
    "    'Gender'\n",
    "] = 'Other'\n",
    "\n",
    "df.loc[df.sample(frac=.02).index,\n",
    "    'Gender'\n",
    "] = 'Prefer not to say'"
   ]
  },
  {
   "cell_type": "code",
   "execution_count": 11,
   "id": "1fbac8c9-255d-40ac-b058-4db918f986d8",
   "metadata": {},
   "outputs": [
    {
     "data": {
      "text/plain": [
       "Male                 52224\n",
       "Female               37146\n",
       "Other                 6979\n",
       "Prefer not to say     3651\n",
       "Name: Gender, dtype: int64"
      ]
     },
     "execution_count": 11,
     "metadata": {},
     "output_type": "execute_result"
    }
   ],
   "source": [
    "df.Gender.value_counts()"
   ]
  },
  {
   "cell_type": "code",
   "execution_count": 17,
   "id": "17b5633d-258f-4bac-aa9c-ee1adb72092b",
   "metadata": {},
   "outputs": [],
   "source": [
    "def email_gen(name):\n",
    "    name = name.lower()\n",
    "    return (name.split(' ')[0]+'.'+name.split(' ')[1]+'@fakeemail.com')"
   ]
  },
  {
   "cell_type": "code",
   "execution_count": 18,
   "id": "b558b0fa-01c1-418a-b105-7665a97ec9f2",
   "metadata": {},
   "outputs": [],
   "source": [
    "df['email'] = df.Name.apply(email_gen)"
   ]
  },
  {
   "cell_type": "code",
   "execution_count": 19,
   "id": "ceb02312-1499-460b-ab6f-8d667ac5c562",
   "metadata": {},
   "outputs": [
    {
     "data": {
      "text/html": [
       "<div>\n",
       "<style scoped>\n",
       "    .dataframe tbody tr th:only-of-type {\n",
       "        vertical-align: middle;\n",
       "    }\n",
       "\n",
       "    .dataframe tbody tr th {\n",
       "        vertical-align: top;\n",
       "    }\n",
       "\n",
       "    .dataframe thead th {\n",
       "        text-align: right;\n",
       "    }\n",
       "</style>\n",
       "<table border=\"1\" class=\"dataframe\">\n",
       "  <thead>\n",
       "    <tr style=\"text-align: right;\">\n",
       "      <th></th>\n",
       "      <th>Name</th>\n",
       "      <th>Gender</th>\n",
       "      <th>email</th>\n",
       "    </tr>\n",
       "  </thead>\n",
       "  <tbody>\n",
       "    <tr>\n",
       "      <th>0</th>\n",
       "      <td>Susshanzt Parui</td>\n",
       "      <td>Male</td>\n",
       "      <td>susshanzt.parui@fakeemail.com</td>\n",
       "    </tr>\n",
       "    <tr>\n",
       "      <th>1</th>\n",
       "      <td>Shamar Phabangi</td>\n",
       "      <td>Male</td>\n",
       "      <td>shamar.phabangi@fakeemail.com</td>\n",
       "    </tr>\n",
       "    <tr>\n",
       "      <th>2</th>\n",
       "      <td>Sushil thapa Musahar</td>\n",
       "      <td>Male</td>\n",
       "      <td>sushil.thapa@fakeemail.com</td>\n",
       "    </tr>\n",
       "    <tr>\n",
       "      <th>3</th>\n",
       "      <td>Chhiring Dhamala</td>\n",
       "      <td>Male</td>\n",
       "      <td>chhiring.dhamala@fakeemail.com</td>\n",
       "    </tr>\n",
       "    <tr>\n",
       "      <th>4</th>\n",
       "      <td>Asisnero Shrarma</td>\n",
       "      <td>Male</td>\n",
       "      <td>asisnero.shrarma@fakeemail.com</td>\n",
       "    </tr>\n",
       "    <tr>\n",
       "      <th>...</th>\n",
       "      <td>...</td>\n",
       "      <td>...</td>\n",
       "      <td>...</td>\n",
       "    </tr>\n",
       "    <tr>\n",
       "      <th>41995</th>\n",
       "      <td>Sneha Mahajan</td>\n",
       "      <td>Female</td>\n",
       "      <td>sneha.mahajan@fakeemail.com</td>\n",
       "    </tr>\n",
       "    <tr>\n",
       "      <th>41996</th>\n",
       "      <td>Simrika Paikara</td>\n",
       "      <td>Female</td>\n",
       "      <td>simrika.paikara@fakeemail.com</td>\n",
       "    </tr>\n",
       "    <tr>\n",
       "      <th>41997</th>\n",
       "      <td>Nisu Uapreti</td>\n",
       "      <td>Female</td>\n",
       "      <td>nisu.uapreti@fakeemail.com</td>\n",
       "    </tr>\n",
       "    <tr>\n",
       "      <th>41998</th>\n",
       "      <td>Sunita Bakhadyo</td>\n",
       "      <td>Female</td>\n",
       "      <td>sunita.bakhadyo@fakeemail.com</td>\n",
       "    </tr>\n",
       "    <tr>\n",
       "      <th>41999</th>\n",
       "      <td>Yashoda Magarni</td>\n",
       "      <td>Other</td>\n",
       "      <td>yashoda.magarni@fakeemail.com</td>\n",
       "    </tr>\n",
       "  </tbody>\n",
       "</table>\n",
       "<p>100000 rows × 3 columns</p>\n",
       "</div>"
      ],
      "text/plain": [
       "                       Name  Gender                           email\n",
       "0           Susshanzt Parui    Male   susshanzt.parui@fakeemail.com\n",
       "1           Shamar Phabangi    Male   shamar.phabangi@fakeemail.com\n",
       "2      Sushil thapa Musahar    Male      sushil.thapa@fakeemail.com\n",
       "3          Chhiring Dhamala    Male  chhiring.dhamala@fakeemail.com\n",
       "4          Asisnero Shrarma    Male  asisnero.shrarma@fakeemail.com\n",
       "...                     ...     ...                             ...\n",
       "41995         Sneha Mahajan  Female     sneha.mahajan@fakeemail.com\n",
       "41996       Simrika Paikara  Female   simrika.paikara@fakeemail.com\n",
       "41997          Nisu Uapreti  Female      nisu.uapreti@fakeemail.com\n",
       "41998       Sunita Bakhadyo  Female   sunita.bakhadyo@fakeemail.com\n",
       "41999       Yashoda Magarni   Other   yashoda.magarni@fakeemail.com\n",
       "\n",
       "[100000 rows x 3 columns]"
      ]
     },
     "execution_count": 19,
     "metadata": {},
     "output_type": "execute_result"
    }
   ],
   "source": [
    "df"
   ]
  },
  {
   "cell_type": "code",
   "execution_count": 27,
   "id": "2bc646cf-3b33-4c90-9e75-d20fd62fbfb8",
   "metadata": {},
   "outputs": [],
   "source": [
    "df['phone'] = [random.randint(9841000000, 9842000000) for x in range(df.shape[0])]"
   ]
  },
  {
   "cell_type": "code",
   "execution_count": 28,
   "id": "1da3b0c5-1343-4c45-92c9-86d5ddae036b",
   "metadata": {},
   "outputs": [
    {
     "data": {
      "text/html": [
       "<div>\n",
       "<style scoped>\n",
       "    .dataframe tbody tr th:only-of-type {\n",
       "        vertical-align: middle;\n",
       "    }\n",
       "\n",
       "    .dataframe tbody tr th {\n",
       "        vertical-align: top;\n",
       "    }\n",
       "\n",
       "    .dataframe thead th {\n",
       "        text-align: right;\n",
       "    }\n",
       "</style>\n",
       "<table border=\"1\" class=\"dataframe\">\n",
       "  <thead>\n",
       "    <tr style=\"text-align: right;\">\n",
       "      <th></th>\n",
       "      <th>Name</th>\n",
       "      <th>Gender</th>\n",
       "      <th>email</th>\n",
       "      <th>phone</th>\n",
       "    </tr>\n",
       "  </thead>\n",
       "  <tbody>\n",
       "    <tr>\n",
       "      <th>0</th>\n",
       "      <td>Susshanzt Parui</td>\n",
       "      <td>Male</td>\n",
       "      <td>susshanzt.parui@fakeemail.com</td>\n",
       "      <td>9841989673</td>\n",
       "    </tr>\n",
       "    <tr>\n",
       "      <th>1</th>\n",
       "      <td>Shamar Phabangi</td>\n",
       "      <td>Male</td>\n",
       "      <td>shamar.phabangi@fakeemail.com</td>\n",
       "      <td>9841768429</td>\n",
       "    </tr>\n",
       "    <tr>\n",
       "      <th>2</th>\n",
       "      <td>Sushil thapa Musahar</td>\n",
       "      <td>Male</td>\n",
       "      <td>sushil.thapa@fakeemail.com</td>\n",
       "      <td>9841163345</td>\n",
       "    </tr>\n",
       "    <tr>\n",
       "      <th>3</th>\n",
       "      <td>Chhiring Dhamala</td>\n",
       "      <td>Male</td>\n",
       "      <td>chhiring.dhamala@fakeemail.com</td>\n",
       "      <td>9841233730</td>\n",
       "    </tr>\n",
       "    <tr>\n",
       "      <th>4</th>\n",
       "      <td>Asisnero Shrarma</td>\n",
       "      <td>Male</td>\n",
       "      <td>asisnero.shrarma@fakeemail.com</td>\n",
       "      <td>9841216974</td>\n",
       "    </tr>\n",
       "    <tr>\n",
       "      <th>...</th>\n",
       "      <td>...</td>\n",
       "      <td>...</td>\n",
       "      <td>...</td>\n",
       "      <td>...</td>\n",
       "    </tr>\n",
       "    <tr>\n",
       "      <th>41995</th>\n",
       "      <td>Sneha Mahajan</td>\n",
       "      <td>Female</td>\n",
       "      <td>sneha.mahajan@fakeemail.com</td>\n",
       "      <td>9841671416</td>\n",
       "    </tr>\n",
       "    <tr>\n",
       "      <th>41996</th>\n",
       "      <td>Simrika Paikara</td>\n",
       "      <td>Female</td>\n",
       "      <td>simrika.paikara@fakeemail.com</td>\n",
       "      <td>9841428370</td>\n",
       "    </tr>\n",
       "    <tr>\n",
       "      <th>41997</th>\n",
       "      <td>Nisu Uapreti</td>\n",
       "      <td>Female</td>\n",
       "      <td>nisu.uapreti@fakeemail.com</td>\n",
       "      <td>9841610122</td>\n",
       "    </tr>\n",
       "    <tr>\n",
       "      <th>41998</th>\n",
       "      <td>Sunita Bakhadyo</td>\n",
       "      <td>Female</td>\n",
       "      <td>sunita.bakhadyo@fakeemail.com</td>\n",
       "      <td>9841592245</td>\n",
       "    </tr>\n",
       "    <tr>\n",
       "      <th>41999</th>\n",
       "      <td>Yashoda Magarni</td>\n",
       "      <td>Other</td>\n",
       "      <td>yashoda.magarni@fakeemail.com</td>\n",
       "      <td>9841536931</td>\n",
       "    </tr>\n",
       "  </tbody>\n",
       "</table>\n",
       "<p>100000 rows × 4 columns</p>\n",
       "</div>"
      ],
      "text/plain": [
       "                       Name  Gender                           email  \\\n",
       "0           Susshanzt Parui    Male   susshanzt.parui@fakeemail.com   \n",
       "1           Shamar Phabangi    Male   shamar.phabangi@fakeemail.com   \n",
       "2      Sushil thapa Musahar    Male      sushil.thapa@fakeemail.com   \n",
       "3          Chhiring Dhamala    Male  chhiring.dhamala@fakeemail.com   \n",
       "4          Asisnero Shrarma    Male  asisnero.shrarma@fakeemail.com   \n",
       "...                     ...     ...                             ...   \n",
       "41995         Sneha Mahajan  Female     sneha.mahajan@fakeemail.com   \n",
       "41996       Simrika Paikara  Female   simrika.paikara@fakeemail.com   \n",
       "41997          Nisu Uapreti  Female      nisu.uapreti@fakeemail.com   \n",
       "41998       Sunita Bakhadyo  Female   sunita.bakhadyo@fakeemail.com   \n",
       "41999       Yashoda Magarni   Other   yashoda.magarni@fakeemail.com   \n",
       "\n",
       "            phone  \n",
       "0      9841989673  \n",
       "1      9841768429  \n",
       "2      9841163345  \n",
       "3      9841233730  \n",
       "4      9841216974  \n",
       "...           ...  \n",
       "41995  9841671416  \n",
       "41996  9841428370  \n",
       "41997  9841610122  \n",
       "41998  9841592245  \n",
       "41999  9841536931  \n",
       "\n",
       "[100000 rows x 4 columns]"
      ]
     },
     "execution_count": 28,
     "metadata": {},
     "output_type": "execute_result"
    }
   ],
   "source": [
    "df"
   ]
  },
  {
   "cell_type": "code",
   "execution_count": null,
   "id": "cdae0a7d-2585-44da-9f3c-80246584ecb6",
   "metadata": {},
   "outputs": [],
   "source": []
  }
 ],
 "metadata": {
  "kernelspec": {
   "display_name": "Python 3 (ipykernel)",
   "language": "python",
   "name": "python3"
  },
  "language_info": {
   "codemirror_mode": {
    "name": "ipython",
    "version": 3
   },
   "file_extension": ".py",
   "mimetype": "text/x-python",
   "name": "python",
   "nbconvert_exporter": "python",
   "pygments_lexer": "ipython3",
   "version": "3.8.3"
  }
 },
 "nbformat": 4,
 "nbformat_minor": 5
}
